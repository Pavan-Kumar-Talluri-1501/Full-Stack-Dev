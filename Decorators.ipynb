{
  "nbformat": 4,
  "nbformat_minor": 0,
  "metadata": {
    "colab": {
      "provenance": [],
      "toc_visible": true,
      "authorship_tag": "ABX9TyNlPRxy5Og5UXy9bL863XEO",
      "include_colab_link": true
    },
    "kernelspec": {
      "name": "python3",
      "display_name": "Python 3"
    },
    "language_info": {
      "name": "python"
    }
  },
  "cells": [
    {
      "cell_type": "markdown",
      "metadata": {
        "id": "view-in-github",
        "colab_type": "text"
      },
      "source": [
        "<a href=\"https://colab.research.google.com/github/Pavan-Kumar-Talluri-1501/Full-Stack-Dev/blob/FastAPI_prerequsites/Decorators.ipynb\" target=\"_parent\"><img src=\"https://colab.research.google.com/assets/colab-badge.svg\" alt=\"Open In Colab\"/></a>"
      ]
    },
    {
      "cell_type": "markdown",
      "source": [
        "# **Prerequsites to Decorators**\n",
        "\n",
        "## **Funcitons**"
      ],
      "metadata": {
        "id": "ubpomNb6UxGV"
      }
    },
    {
      "cell_type": "code",
      "execution_count": null,
      "metadata": {
        "id": "igRoaBrd6hcg"
      },
      "outputs": [],
      "source": [
        "# Challenge-1\n",
        "\n",
        "def calculate_average(numbers):\n",
        "    sum=0\n",
        "    if numbers == []: # equals to \"not numbers\" or \"len(numbers)==0\"\n",
        "        print(\"No numbers provided\")\n",
        "        return None\n",
        "    else:\n",
        "        for number in numbers: # or \"sum()\" funciton can be used instead of iterating --> sum(numbers)\n",
        "            sum = sum + number\n",
        "        Average = sum/len(numbers)\n",
        "        return f\"Count: {len(numbers)}, Average: {Average}\"\n"
      ]
    },
    {
      "cell_type": "code",
      "source": [
        "numbers = [1,2,3,4,5,6,7,8,9,10]\n",
        "calculate_average(numbers)"
      ],
      "metadata": {
        "collapsed": true,
        "id": "RbaNwdxT-QQm"
      },
      "execution_count": null,
      "outputs": []
    },
    {
      "cell_type": "markdown",
      "source": [
        "### `print()` vs. `return`\n",
        "\n",
        "`print()` is a function used to display output to the console. It shows information to the user but does not affect the flow or outcome of the program's logic. Once the information is printed, it is gone and cannot be used elsewhere in the code.\n",
        "\n",
        "`return`, on the other hand, is a keyword used within functions to send a value back to the caller. This returned value can then be used or assigned to a variable for further processing in other parts of the program. The `return` statement also terminates the execution of the function.\n",
        "\n",
        "-----------------------------------------------\n",
        "In the above code, `print(\"No numbers provided\")` displays a message to the console if the `numbers` list is empty, while `return None` and `return f\"Count: {len(numbers)}, Average: {Average}\"` send values (either `None` or a formatted string) back from the `calculate_average` function to wherever it was called from, allowing those values to be used later in the program."
      ],
      "metadata": {
        "id": "h_FdE6gRVcws"
      }
    },
    {
      "cell_type": "markdown",
      "source": [
        "### \\*args and \\**kwargs\n",
        "\n",
        "These are used when the funciton is taking arbitary number of inputs i.e. not knowing how many arguments will be passed.\n",
        "\n",
        "\\*args refers `positional arguments` <br>\n",
        "\\**kwargs refers `keyword arguments`\n",
        "\n",
        "order matters in \\*args but not in \\**kwargs as they are dictionaries."
      ],
      "metadata": {
        "id": "zSPBVUfxvA21"
      }
    },
    {
      "cell_type": "code",
      "source": [
        "# argugemnts and keyword arguments(basically dictionaries)\n",
        "# * is basically used for unpacking in python, *<iterator> then it unpacks that iterator.\n",
        "numbers = [1,2,3,4,5]\n",
        "name = \"tony stark\"\n",
        "print(numbers)\n",
        "print(*numbers)\n",
        "print(name)\n",
        "print(*name)"
      ],
      "metadata": {
        "colab": {
          "base_uri": "https://localhost:8080/"
        },
        "id": "9LjOOvW7_EKF",
        "outputId": "dc47498a-871f-4eff-915d-0f87f45299ba"
      },
      "execution_count": null,
      "outputs": [
        {
          "output_type": "stream",
          "name": "stdout",
          "text": [
            "[1, 2, 3, 4, 5]\n",
            "1 2 3 4 5\n",
            "tony stark\n",
            "t o n y   s t a r k\n"
          ]
        }
      ]
    },
    {
      "cell_type": "code",
      "source": [
        "# Create a funciton order_pizza and give it a size and it can take any number of toppings\n",
        "\n",
        "def order_pizza(size, *toppings): # here *toppings by convention is \"*args\"\n",
        "    print(f\"ordered a pizza of {size} size with additional toppings\")\n",
        "    # print(toppings)\n",
        "    for topping in toppings:\n",
        "        print(f\"- {topping}\")\n",
        "\n",
        "order_pizza(\"large\", \"corn\", \"chicken\",\"onions\") # so here the 1st argument is for \"size\"\n",
        "# next 3 arguments are considered as tuples and sent to \"toppings\"\n"
      ],
      "metadata": {
        "colab": {
          "base_uri": "https://localhost:8080/"
        },
        "id": "Bev2K97DvZmt",
        "outputId": "a0db01a6-2ffc-46a9-8f47-2fb7a6078798"
      },
      "execution_count": null,
      "outputs": [
        {
          "output_type": "stream",
          "name": "stdout",
          "text": [
            "ordered a pizza of large size with additional toppings\n",
            "- corn\n",
            "- chicken\n",
            "- onions\n"
          ]
        }
      ]
    },
    {
      "cell_type": "markdown",
      "source": [
        "#### Note\n",
        "- Funtion that accepts any number of arguments is called `Variadic function` or function signature has `variable arity`"
      ],
      "metadata": {
        "id": "54s0Luo9222G"
      }
    },
    {
      "cell_type": "code",
      "source": [
        "# **kwargs\n",
        "# expand the function by giving the details like --> is it a delivery and what's the tip\n",
        "\n",
        "def order_pizza(size, *toppings, **details): # here **details refers to **kwargs\n",
        "    print(f\"ordered a pizza of {size} size with additional toppings\")\n",
        "    for topping in toppings:\n",
        "        print(f\"- {topping}\")\n",
        "    print(\"--------Details of the order--------\")\n",
        "    for k,v in details.items():\n",
        "        print(f\"- {k}: {v}\")"
      ],
      "metadata": {
        "id": "8uVKy8ztxzlG"
      },
      "execution_count": null,
      "outputs": []
    },
    {
      "cell_type": "code",
      "source": [
        "order_pizza(\"large\", \"corn\", \"chicken\", \"onions\", delivery=True, tip=10)\n",
        "# delivery and tip are the keyword args here.\n",
        "# **details will take these args and put it in a dictionary as key-value pairs"
      ],
      "metadata": {
        "colab": {
          "base_uri": "https://localhost:8080/"
        },
        "id": "XNU9IOIgz2MK",
        "outputId": "6594a66e-690e-4901-b7f1-917b25ca283f"
      },
      "execution_count": null,
      "outputs": [
        {
          "output_type": "stream",
          "name": "stdout",
          "text": [
            "ordered a pizza of large size with additional toppings\n",
            "- corn\n",
            "- chicken\n",
            "- onions\n",
            "--------Details of the order--------\n",
            "- delivery: True\n",
            "- tip: 10\n"
          ]
        }
      ]
    },
    {
      "cell_type": "code",
      "source": [
        "def self_intro(**kwargs):\n",
        "    for k,v in kwargs.items():\n",
        "        print(f\"{k}: {v}\")"
      ],
      "metadata": {
        "id": "RuH75_ra0Cwh"
      },
      "execution_count": null,
      "outputs": []
    },
    {
      "cell_type": "code",
      "source": [
        "self_intro(name=\"Tony Stark\", age=\"25\", country=\"India\")"
      ],
      "metadata": {
        "colab": {
          "base_uri": "https://localhost:8080/"
        },
        "id": "sJHjCH9v1aDj",
        "outputId": "a620bbb6-b4ff-407c-d0d7-abe9a1392eff"
      },
      "execution_count": null,
      "outputs": [
        {
          "output_type": "stream",
          "name": "stdout",
          "text": [
            "name: Tony Stark\n",
            "age: 25\n",
            "country: India\n"
          ]
        }
      ]
    },
    {
      "cell_type": "code",
      "source": [
        "# Challenge-2\n",
        "\n",
        "# modify the calculat_average funciton to accept variable number of positional arguments\n",
        "# In addition to that add keyword args called \"round_to\", which should accept integer and round to given decimal places\n",
        "\n",
        "def calculate_average(*args, round_to=2):\n",
        "    sum_of_numbers = sum(args)\n",
        "    average = sum_of_numbers/len(args)\n",
        "    rounded_avg = round(average, round_to)\n",
        "    print(f\"count of numbers: {len(args)}, Average: {average}\")\n",
        "    print(f\"rounded average is {rounded_avg}\")\n"
      ],
      "metadata": {
        "id": "Jiu3VM-E1mAR"
      },
      "execution_count": null,
      "outputs": []
    },
    {
      "cell_type": "code",
      "source": [
        "calculate_average(1, 2.1, 3.123, 4.070001, 5, round_to=3)"
      ],
      "metadata": {
        "colab": {
          "base_uri": "https://localhost:8080/"
        },
        "id": "0msMEIr84mjx",
        "outputId": "d39824a2-1bbb-4442-b6cf-9f39e0f2cdb8"
      },
      "execution_count": null,
      "outputs": [
        {
          "output_type": "stream",
          "name": "stdout",
          "text": [
            "count of numbers: 5, Average: 3.0586002\n",
            "rounded average is 3.059\n"
          ]
        }
      ]
    },
    {
      "cell_type": "markdown",
      "source": [
        "## **Higher Order Functions**\n",
        "\n",
        "Takes one or more funcitons as arguments or return a function as it result."
      ],
      "metadata": {
        "id": "VD4qTdfu7kQF"
      }
    },
    {
      "cell_type": "markdown",
      "source": [
        "### function as argument\n",
        "basic def:\n",
        "\n",
        "```\n",
        "def func1(func2):\n",
        "  pass\n",
        "```"
      ],
      "metadata": {
        "id": "Cz9qBRVr78O6"
      }
    },
    {
      "cell_type": "code",
      "source": [
        "def stark_industries(func):\n",
        "\n",
        "    def stark_towers(): # this is called inner function\n",
        "        return func().upper() + '!!!'\n",
        "\n",
        "    return stark_towers # here only reference is passed, not invoking function like this \"stark_towers()\"\n",
        "\n",
        "# Omitting the paranthesis indicates its a reference transfer.\n",
        "# Using parentheses executes the function immediately, while omitting them returns a reference to the function without executing it\n",
        "\n",
        "# here \"stark_towers\" is local to stark_industries(), so it cannot be accessed outside in any other function\n"
      ],
      "metadata": {
        "id": "-hllPvip5b0Z"
      },
      "execution_count": null,
      "outputs": []
    },
    {
      "cell_type": "code",
      "source": [
        "def captian_call():\n",
        "    return \"Avengers, Assemble\""
      ],
      "metadata": {
        "id": "VPzNOTp7A7zF"
      },
      "execution_count": null,
      "outputs": []
    },
    {
      "cell_type": "code",
      "source": [
        "war_start = stark_industries(captian_call) # here \"war_start\" is a new function\n",
        "war_start()"
      ],
      "metadata": {
        "colab": {
          "base_uri": "https://localhost:8080/",
          "height": 36
        },
        "id": "anJo5ADsBT2f",
        "outputId": "539f154d-5061-429f-ad99-9819b08182be"
      },
      "execution_count": null,
      "outputs": [
        {
          "output_type": "execute_result",
          "data": {
            "text/plain": [
              "'AVENGERS, ASSEMBLE!!!'"
            ],
            "application/vnd.google.colaboratory.intrinsic+json": {
              "type": "string"
            }
          },
          "metadata": {},
          "execution_count": 83
        }
      ]
    },
    {
      "cell_type": "code",
      "source": [
        "# passing reference of function\n",
        "def greet():\n",
        "    print(\"hello avengers\")\n",
        "g = greet\n",
        "print(g) # this gives address of the funciton without executing it --> <function greet at 0x7cf6bfe9f4c0>\n",
        "\n",
        "# this means it holds the function itself not the return value"
      ],
      "metadata": {
        "colab": {
          "base_uri": "https://localhost:8080/"
        },
        "id": "p6feffyA-N-k",
        "outputId": "afc097fd-c3b9-43f0-e278-a0e10bf43054"
      },
      "execution_count": null,
      "outputs": [
        {
          "output_type": "stream",
          "name": "stdout",
          "text": [
            "<function greet at 0x7cf6bfe9f4c0>\n"
          ]
        }
      ]
    },
    {
      "cell_type": "code",
      "source": [
        "# Challenge-3 --> Arithmetic HOF\n",
        "\n",
        "# define HOF called \"double\" and take single function as arg, and returns modified version of that funciton, where the output of that function is multiplied by 2\n",
        "# define another function \"add\" that takes 2 args and returns their sum\n",
        "# apply double to add and store it in a new funciton called \"double_add\" which when invoked should return sum of two numbers multiplied by 2\n",
        "\n",
        "def double(func):\n",
        "\n",
        "    def multiplier(*args):\n",
        "        return func(*args)*2\n",
        "\n",
        "    return multiplier\n",
        "\n",
        "def add(*args):\n",
        "    return sum(args)\n",
        "\n",
        "double_add = double(add)"
      ],
      "metadata": {
        "id": "5yPW-y9t_30N"
      },
      "execution_count": null,
      "outputs": []
    },
    {
      "cell_type": "code",
      "source": [
        "double_add(5, 10)"
      ],
      "metadata": {
        "colab": {
          "base_uri": "https://localhost:8080/"
        },
        "id": "D6_PToRaD6Gp",
        "outputId": "a1df4777-f4f9-4f5a-9e0b-1c838eb6d5e9"
      },
      "execution_count": null,
      "outputs": [
        {
          "output_type": "execute_result",
          "data": {
            "text/plain": [
              "30"
            ]
          },
          "metadata": {},
          "execution_count": 97
        }
      ]
    },
    {
      "cell_type": "markdown",
      "source": [
        "## **First Class functions**"
      ],
      "metadata": {
        "id": "Jv7Z_us5JMdB"
      }
    },
    {
      "cell_type": "code",
      "source": [],
      "metadata": {
        "id": "0aP_UcwgH2su"
      },
      "execution_count": null,
      "outputs": []
    }
  ]
}