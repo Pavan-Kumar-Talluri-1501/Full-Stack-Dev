{
  "nbformat": 4,
  "nbformat_minor": 0,
  "metadata": {
    "colab": {
      "provenance": [],
      "toc_visible": true,
      "authorship_tag": "ABX9TyNbDUVji8ITO+VZWfwgw4vz",
      "include_colab_link": true
    },
    "kernelspec": {
      "name": "python3",
      "display_name": "Python 3"
    },
    "language_info": {
      "name": "python"
    }
  },
  "cells": [
    {
      "cell_type": "markdown",
      "metadata": {
        "id": "view-in-github",
        "colab_type": "text"
      },
      "source": [
        "<a href=\"https://colab.research.google.com/github/Pavan-Kumar-Talluri-1501/Full-Stack-Dev/blob/FastAPI_prerequsites/Decorators.ipynb\" target=\"_parent\"><img src=\"https://colab.research.google.com/assets/colab-badge.svg\" alt=\"Open In Colab\"/></a>"
      ]
    },
    {
      "cell_type": "markdown",
      "source": [
        "# **Prerequsites to Decorators**\n",
        "\n",
        "## **Funcitons**"
      ],
      "metadata": {
        "id": "ubpomNb6UxGV"
      }
    },
    {
      "cell_type": "code",
      "execution_count": null,
      "metadata": {
        "id": "igRoaBrd6hcg"
      },
      "outputs": [],
      "source": [
        "# Challenge-1\n",
        "\n",
        "def calculate_average(numbers):\n",
        "    sum=0\n",
        "    if numbers == []: # equals to \"not numbers\" or \"len(numbers)==0\"\n",
        "        print(\"No numbers provided\")\n",
        "        return None\n",
        "    else:\n",
        "        for number in numbers: # or \"sum()\" funciton can be used instead of iterating --> sum(numbers)\n",
        "            sum = sum + number\n",
        "        Average = sum/len(numbers)\n",
        "        return f\"Count: {len(numbers)}, Average: {Average}\"\n"
      ]
    },
    {
      "cell_type": "code",
      "source": [
        "numbers = [1,2,3,4,5,6,7,8,9,10]\n",
        "calculate_average(numbers)"
      ],
      "metadata": {
        "collapsed": true,
        "id": "RbaNwdxT-QQm"
      },
      "execution_count": null,
      "outputs": []
    },
    {
      "cell_type": "markdown",
      "source": [
        "### `print()` vs. `return`\n",
        "\n",
        "`print()` is a function used to display output to the console. It shows information to the user but does not affect the flow or outcome of the program's logic. Once the information is printed, it is gone and cannot be used elsewhere in the code.\n",
        "\n",
        "`return`, on the other hand, is a keyword used within functions to send a value back to the caller. This returned value can then be used or assigned to a variable for further processing in other parts of the program. The `return` statement also terminates the execution of the function.\n",
        "\n",
        "-----------------------------------------------\n",
        "In the above code, `print(\"No numbers provided\")` displays a message to the console if the `numbers` list is empty, while `return None` and `return f\"Count: {len(numbers)}, Average: {Average}\"` send values (either `None` or a formatted string) back from the `calculate_average` function to wherever it was called from, allowing those values to be used later in the program."
      ],
      "metadata": {
        "id": "h_FdE6gRVcws"
      }
    },
    {
      "cell_type": "markdown",
      "source": [
        "### \\*args and \\**kwargs\n",
        "\n",
        "These are used when the funciton is taking arbitary number of inputs i.e. not knowing how many arguments will be passed.\n",
        "\n",
        "\\*args refers `positional arguments` <br>\n",
        "\\**kwargs refers `keyword arguments`\n",
        "\n",
        "order matters in \\*args but not in \\**kwargs as they are dictionaries."
      ],
      "metadata": {
        "id": "zSPBVUfxvA21"
      }
    },
    {
      "cell_type": "code",
      "source": [
        "# argugemnts and keyword arguments(basically dictionaries)\n",
        "# * is basically used for unpacking in python, *<iterator> then it unpacks that iterator.\n",
        "numbers = [1,2,3,4,5]\n",
        "name = \"tony stark\"\n",
        "print(numbers)\n",
        "print(*numbers)\n",
        "print(name)\n",
        "print(*name)"
      ],
      "metadata": {
        "colab": {
          "base_uri": "https://localhost:8080/"
        },
        "id": "9LjOOvW7_EKF",
        "outputId": "dc47498a-871f-4eff-915d-0f87f45299ba"
      },
      "execution_count": null,
      "outputs": [
        {
          "output_type": "stream",
          "name": "stdout",
          "text": [
            "[1, 2, 3, 4, 5]\n",
            "1 2 3 4 5\n",
            "tony stark\n",
            "t o n y   s t a r k\n"
          ]
        }
      ]
    },
    {
      "cell_type": "code",
      "source": [
        "# Create a funciton order_pizza and give it a size and it can take any number of toppings\n",
        "\n",
        "def order_pizza(size, *toppings): # here *toppings by convention is \"*args\"\n",
        "    print(f\"ordered a pizza of {size} size with additional toppings\")\n",
        "    # print(toppings)\n",
        "    for topping in toppings:\n",
        "        print(f\"- {topping}\")\n",
        "\n",
        "order_pizza(\"large\", \"corn\", \"chicken\",\"onions\") # so here the 1st argument is for \"size\"\n",
        "# next 3 arguments are considered as tuples and sent to \"toppings\"\n"
      ],
      "metadata": {
        "colab": {
          "base_uri": "https://localhost:8080/"
        },
        "id": "Bev2K97DvZmt",
        "outputId": "a0db01a6-2ffc-46a9-8f47-2fb7a6078798"
      },
      "execution_count": null,
      "outputs": [
        {
          "output_type": "stream",
          "name": "stdout",
          "text": [
            "ordered a pizza of large size with additional toppings\n",
            "- corn\n",
            "- chicken\n",
            "- onions\n"
          ]
        }
      ]
    },
    {
      "cell_type": "markdown",
      "source": [
        "#### Note\n",
        "- Funtion that accepts any number of arguments is called `Variadic function` or function signature has `variable arity`"
      ],
      "metadata": {
        "id": "54s0Luo9222G"
      }
    },
    {
      "cell_type": "code",
      "source": [
        "# **kwargs\n",
        "# expand the function by giving the details like --> is it a delivery and what's the tip\n",
        "\n",
        "def order_pizza(size, *toppings, **details): # here **details refers to **kwargs\n",
        "    print(f\"ordered a pizza of {size} size with additional toppings\")\n",
        "    for topping in toppings:\n",
        "        print(f\"- {topping}\")\n",
        "    print(\"--------Details of the order--------\")\n",
        "    for k,v in details.items():\n",
        "        print(f\"- {k}: {v}\")"
      ],
      "metadata": {
        "id": "8uVKy8ztxzlG"
      },
      "execution_count": null,
      "outputs": []
    },
    {
      "cell_type": "code",
      "source": [
        "order_pizza(\"large\", \"corn\", \"chicken\", \"onions\", delivery=True, tip=10)\n",
        "# delivery and tip are the keyword args here.\n",
        "# **details will take these args and put it in a dictionary as key-value pairs"
      ],
      "metadata": {
        "colab": {
          "base_uri": "https://localhost:8080/"
        },
        "id": "XNU9IOIgz2MK",
        "outputId": "6594a66e-690e-4901-b7f1-917b25ca283f"
      },
      "execution_count": null,
      "outputs": [
        {
          "output_type": "stream",
          "name": "stdout",
          "text": [
            "ordered a pizza of large size with additional toppings\n",
            "- corn\n",
            "- chicken\n",
            "- onions\n",
            "--------Details of the order--------\n",
            "- delivery: True\n",
            "- tip: 10\n"
          ]
        }
      ]
    },
    {
      "cell_type": "code",
      "source": [
        "def self_intro(**kwargs):\n",
        "    for k,v in kwargs.items():\n",
        "        print(f\"{k}: {v}\")"
      ],
      "metadata": {
        "id": "RuH75_ra0Cwh"
      },
      "execution_count": null,
      "outputs": []
    },
    {
      "cell_type": "code",
      "source": [
        "self_intro(name=\"Tony Stark\", age=\"25\", country=\"India\")"
      ],
      "metadata": {
        "colab": {
          "base_uri": "https://localhost:8080/"
        },
        "id": "sJHjCH9v1aDj",
        "outputId": "a620bbb6-b4ff-407c-d0d7-abe9a1392eff"
      },
      "execution_count": null,
      "outputs": [
        {
          "output_type": "stream",
          "name": "stdout",
          "text": [
            "name: Tony Stark\n",
            "age: 25\n",
            "country: India\n"
          ]
        }
      ]
    },
    {
      "cell_type": "markdown",
      "source": [
        "### **Challenge-2 Calculate Average**\n",
        "\n",
        "Modify the calculate_average funciton to accept variable number of positional arguments\n",
        "\n",
        "In addition to that add keyword args called \"round_to\", which should accept integer and round to given decimal places"
      ],
      "metadata": {
        "id": "MDy0N-oAgKEV"
      }
    },
    {
      "cell_type": "code",
      "source": [
        "def calculate_average(*args, round_to=2):\n",
        "    sum_of_numbers = sum(args)\n",
        "    average = sum_of_numbers/len(args)\n",
        "    rounded_avg = round(average, round_to)\n",
        "    print(f\"count of numbers: {len(args)}, Average: {average}\")\n",
        "    print(f\"rounded average is {rounded_avg}\")\n"
      ],
      "metadata": {
        "id": "Jiu3VM-E1mAR"
      },
      "execution_count": null,
      "outputs": []
    },
    {
      "cell_type": "code",
      "source": [
        "calculate_average(1, 2.1, 3.123, 4.070001, 5, round_to=3)"
      ],
      "metadata": {
        "colab": {
          "base_uri": "https://localhost:8080/"
        },
        "id": "0msMEIr84mjx",
        "outputId": "d39824a2-1bbb-4442-b6cf-9f39e0f2cdb8"
      },
      "execution_count": null,
      "outputs": [
        {
          "output_type": "stream",
          "name": "stdout",
          "text": [
            "count of numbers: 5, Average: 3.0586002\n",
            "rounded average is 3.059\n"
          ]
        }
      ]
    },
    {
      "cell_type": "markdown",
      "source": [
        "## **Higher Order Functions**\n",
        "\n",
        "Takes one or more funcitons as arguments or return a function as it result."
      ],
      "metadata": {
        "id": "VD4qTdfu7kQF"
      }
    },
    {
      "cell_type": "markdown",
      "source": [
        "### function as argument\n",
        "basic def:\n",
        "\n",
        "```\n",
        "def func(func2):\n",
        "  def func3():\n",
        "    return func2()\n",
        "    \n",
        "  return func3\n",
        "```"
      ],
      "metadata": {
        "id": "Cz9qBRVr78O6"
      }
    },
    {
      "cell_type": "code",
      "source": [
        "def stark_industries(func):\n",
        "\n",
        "    def stark_towers(): # this is called inner function\n",
        "        return func().upper() + '!!!'\n",
        "\n",
        "    return stark_towers # here only reference is passed, not invoking function like this \"stark_towers()\"\n",
        "\n",
        "# Omitting the paranthesis indicates its a reference transfer.\n",
        "# Using parentheses executes the function immediately, while omitting them returns a reference to the function without executing it\n",
        "\n",
        "# here \"stark_towers\" is local to stark_industries(), so it cannot be accessed outside in any other function\n"
      ],
      "metadata": {
        "id": "-hllPvip5b0Z"
      },
      "execution_count": null,
      "outputs": []
    },
    {
      "cell_type": "code",
      "source": [
        "def captian_call():\n",
        "    return \"Avengers, Assemble\""
      ],
      "metadata": {
        "id": "VPzNOTp7A7zF",
        "colab": {
          "base_uri": "https://localhost:8080/",
          "height": 36
        },
        "outputId": "0f199b56-06b3-455a-f506-f308ce2b053e"
      },
      "execution_count": null,
      "outputs": [
        {
          "output_type": "execute_result",
          "data": {
            "text/plain": [
              "'AVENGERS, ASSEMBLE!!!'"
            ],
            "application/vnd.google.colaboratory.intrinsic+json": {
              "type": "string"
            }
          },
          "metadata": {},
          "execution_count": 15
        }
      ]
    },
    {
      "cell_type": "code",
      "source": [
        "war_start = stark_industries(captian_call) # here \"war_start\" is a new function\n",
        "war_start()"
      ],
      "metadata": {
        "colab": {
          "base_uri": "https://localhost:8080/",
          "height": 36
        },
        "id": "anJo5ADsBT2f",
        "outputId": "539f154d-5061-429f-ad99-9819b08182be"
      },
      "execution_count": null,
      "outputs": [
        {
          "output_type": "execute_result",
          "data": {
            "text/plain": [
              "'AVENGERS, ASSEMBLE!!!'"
            ],
            "application/vnd.google.colaboratory.intrinsic+json": {
              "type": "string"
            }
          },
          "metadata": {},
          "execution_count": 83
        }
      ]
    },
    {
      "cell_type": "code",
      "source": [
        "# passing reference of function\n",
        "def greet():\n",
        "    print(\"hello avengers\")\n",
        "g = greet\n",
        "print(g) # this gives address of the funciton without executing it --> <function greet at 0x7cf6bfe9f4c0>\n",
        "\n",
        "# this means it holds the function itself not the return value"
      ],
      "metadata": {
        "colab": {
          "base_uri": "https://localhost:8080/"
        },
        "id": "p6feffyA-N-k",
        "outputId": "afc097fd-c3b9-43f0-e278-a0e10bf43054"
      },
      "execution_count": null,
      "outputs": [
        {
          "output_type": "stream",
          "name": "stdout",
          "text": [
            "<function greet at 0x7cf6bfe9f4c0>\n"
          ]
        }
      ]
    },
    {
      "cell_type": "markdown",
      "source": [
        "### **Challenge-3 Arithmetic HOF**\n",
        "\n",
        "Define HOF called \"double\" and take single function as arg, and returns modified version of that funciton, where the output of that function is multiplied by 2\n",
        "\n",
        "Define another function \"add\" that takes 2 args and returns their sum\n",
        "\n",
        "Apply double to add and store it in a new funciton called \"double_add\" which when invoked should return sum of two numbers multiplied by 2\n"
      ],
      "metadata": {
        "id": "FuTVRbFtf4aX"
      }
    },
    {
      "cell_type": "code",
      "source": [
        "def double(func):\n",
        "\n",
        "    def multiplier(*args):\n",
        "        return func(*args)*2\n",
        "\n",
        "    return multiplier\n",
        "\n",
        "def add(*args):\n",
        "    return sum(args)\n",
        "\n",
        "double_add = double(add)"
      ],
      "metadata": {
        "id": "5yPW-y9t_30N"
      },
      "execution_count": null,
      "outputs": []
    },
    {
      "cell_type": "code",
      "source": [
        "double_add(5, 10)"
      ],
      "metadata": {
        "colab": {
          "base_uri": "https://localhost:8080/"
        },
        "id": "D6_PToRaD6Gp",
        "outputId": "a1df4777-f4f9-4f5a-9e0b-1c838eb6d5e9"
      },
      "execution_count": null,
      "outputs": [
        {
          "output_type": "execute_result",
          "data": {
            "text/plain": [
              "30"
            ]
          },
          "metadata": {},
          "execution_count": 97
        }
      ]
    },
    {
      "cell_type": "markdown",
      "source": [
        "## **First Class functions**\n",
        "\n",
        "It means that the functions in python are treated as `objects`.\n",
        "\n",
        "This means they can be assigned to variables, stored in data structures, passed as arguments to other funcitons and also returned as values from them."
      ],
      "metadata": {
        "id": "Jv7Z_us5JMdB"
      }
    },
    {
      "cell_type": "code",
      "source": [
        "def happy_to_greet_tony(name):\n",
        "    return f\"Hello {name}\"\n",
        "\n",
        "def waste_of_time_to_greet_tony(name):\n",
        "    return f\"Hello:( why are you here {name}\"\n",
        "\n",
        "def greeting(name, greet_tony):\n",
        "    return greet_tony(name)\n",
        "\n",
        "greeting(\"Tony Stark\", happy_to_greet_tony)\n"
      ],
      "metadata": {
        "id": "0aP_UcwgH2su",
        "colab": {
          "base_uri": "https://localhost:8080/",
          "height": 36
        },
        "outputId": "5cfb3296-ff71-42a9-b094-91109a6793e3"
      },
      "execution_count": null,
      "outputs": [
        {
          "output_type": "execute_result",
          "data": {
            "text/plain": [
              "'Hello Tony Stark'"
            ],
            "application/vnd.google.colaboratory.intrinsic+json": {
              "type": "string"
            }
          },
          "metadata": {},
          "execution_count": 5
        }
      ]
    },
    {
      "cell_type": "code",
      "source": [
        "greeting(\"Tony Stark\", waste_of_time_to_greet_tony)"
      ],
      "metadata": {
        "colab": {
          "base_uri": "https://localhost:8080/",
          "height": 36
        },
        "id": "vPd8V06WBIjT",
        "outputId": "6ec30d0f-46eb-4a16-c37e-21efb717dbcb"
      },
      "execution_count": null,
      "outputs": [
        {
          "output_type": "execute_result",
          "data": {
            "text/plain": [
              "'Hello:( why are you here Tony Stark'"
            ],
            "application/vnd.google.colaboratory.intrinsic+json": {
              "type": "string"
            }
          },
          "metadata": {},
          "execution_count": 4
        }
      ]
    },
    {
      "cell_type": "markdown",
      "source": [
        "#### Note\n",
        "\n",
        "Its better to use annotations as well while writing a function so that it helps to know what is going to be returned and what is the input it expects. For example,\n",
        "\n",
        "```\n",
        "from typing import Callable\n",
        "\n",
        "def greeting(name: str, func: Callable) --> str:\n",
        "    return func(name) # this returns string\n",
        "```\n",
        "\n",
        "and for Callable, there is more in detail annotation that can be written, like\n",
        "\n",
        "```\n",
        "func: Callable[[str], str]\n",
        "```\n",
        "\n",
        "which means that, the function is callable and it expects string as argument/input and return a string."
      ],
      "metadata": {
        "id": "8lD0vdnoBuuu"
      }
    },
    {
      "cell_type": "code",
      "source": [
        "# filter, map, reduce are best examples of HOF\n",
        "\n",
        "nums = [2, 3, 234, 9]\n",
        "\n",
        "def is_even(num):\n",
        "    return num%2 == 0\n",
        "\n",
        "list(filter(is_even, nums)) # filter(<function>, <iterator>), it filters based on the function"
      ],
      "metadata": {
        "colab": {
          "base_uri": "https://localhost:8080/"
        },
        "id": "PXu0AOqZBZZb",
        "outputId": "1d640e2b-8dc8-44d0-f186-078f88fe684e"
      },
      "execution_count": null,
      "outputs": [
        {
          "output_type": "execute_result",
          "data": {
            "text/plain": [
              "[2, 234]"
            ]
          },
          "metadata": {},
          "execution_count": 6
        }
      ]
    },
    {
      "cell_type": "code",
      "source": [
        "# using anonymous funciton(lambda), so the above code snippet can be more simplified\n",
        "\n",
        "nums = [2, 3, 234, 9]\n",
        "\n",
        "list(filter(lambda x: x%2 == 0, nums)) # here lambda is an anonymous funciton"
      ],
      "metadata": {
        "colab": {
          "base_uri": "https://localhost:8080/"
        },
        "id": "6Yxfy9_XDkQx",
        "outputId": "f6e457df-1e20-4789-c03c-58bc8a263c53"
      },
      "execution_count": null,
      "outputs": [
        {
          "output_type": "execute_result",
          "data": {
            "text/plain": [
              "[2, 234]"
            ]
          },
          "metadata": {},
          "execution_count": 7
        }
      ]
    },
    {
      "cell_type": "markdown",
      "source": [
        "## **Closures**\n",
        "\n",
        "Closures are a way to retain or remember values from a particular scope(local, global, nonlocal), even after that scope has exited or returned.\n",
        "\n",
        "In general, a closure in python is a funciton object that access to variables from a passed scope or outside scope."
      ],
      "metadata": {
        "id": "bzNT0vP1EPBe"
      }
    },
    {
      "cell_type": "code",
      "source": [
        "# Closure\n",
        "\n",
        "def outer(x):\n",
        "\n",
        "    def inner(y):\n",
        "        return x+y\n",
        "\n",
        "    return inner\n",
        "\n",
        "closure = outer(10) # here it sets \"x\"as 10, so in the inner function 10 is set, then variable \"y\" should be passed\n",
        "closure(20)\n",
        "\n",
        "# So here, even when the outer funciton finished the execution it still remembers x as 10"
      ],
      "metadata": {
        "colab": {
          "base_uri": "https://localhost:8080/"
        },
        "id": "v709KofxD_Kj",
        "outputId": "dab0acc3-acc6-4713-8097-d22f908f3efc"
      },
      "execution_count": null,
      "outputs": [
        {
          "output_type": "execute_result",
          "data": {
            "text/plain": [
              "30"
            ]
          },
          "metadata": {},
          "execution_count": 8
        }
      ]
    },
    {
      "cell_type": "markdown",
      "source": [
        "In the above function, outer, inner, each of them expects a single parameter x and y.\n",
        "\n",
        "But the `inner` funciton has access the variable from x, the outer function scope and as well as its own y.\n",
        "\n",
        "So the intresting thing here is, even though the inner function expects a single parameter, the inner function logic is dependent on 2 variables(x, y) where x is closed out from the outer funciton scope.\n",
        "\n",
        "This is a basic setup for a **Closure**.\n",
        "\n",
        "The closures are used to create individual function instances with their private state."
      ],
      "metadata": {
        "id": "wpo15Qa5Foqk"
      }
    },
    {
      "cell_type": "code",
      "source": [
        "# multiplier\n",
        "\n",
        "def do_multiply(x):\n",
        "\n",
        "    def multiplier(n):\n",
        "        return x*n\n",
        "\n",
        "    return multiplier\n",
        "\n",
        "times_two = do_multiply(2)\n",
        "times_three = do_multiply(8)\n",
        "times_two(5)"
      ],
      "metadata": {
        "colab": {
          "base_uri": "https://localhost:8080/"
        },
        "id": "LHtK76xhG8bV",
        "outputId": "21742787-74bf-46a1-bbdb-fd34f884e0f9"
      },
      "execution_count": null,
      "outputs": [
        {
          "output_type": "execute_result",
          "data": {
            "text/plain": [
              "10"
            ]
          },
          "metadata": {},
          "execution_count": 13
        }
      ]
    },
    {
      "cell_type": "code",
      "source": [
        "times_three(10)"
      ],
      "metadata": {
        "colab": {
          "base_uri": "https://localhost:8080/"
        },
        "outputId": "cda99b07-70bf-4b39-dbbe-8820682f5542",
        "id": "vatTurUsIoz4"
      },
      "execution_count": null,
      "outputs": [
        {
          "output_type": "execute_result",
          "data": {
            "text/plain": [
              "80"
            ]
          },
          "metadata": {},
          "execution_count": 14
        }
      ]
    },
    {
      "cell_type": "markdown",
      "source": [
        "Here `time_two` and `times_three` are closures that remember the value of x from their own specific instance of `do_multiply` funciton.\n",
        "\n",
        "So `do_multiply` function is a utility that generates individual multiplier funcitons with their own private state.\n",
        "\n",
        "#### Uses of Closure\n",
        "- **Data hiding and Encapsulation**: In web scraping site requrie some authentication, we usually need to maintain the session data across multiple requests and a closure can be used to encapsulate a session and use it across multiple function calls making it easy to avoid redundant code.\n",
        "\n",
        "- **Deep learning models**: When customizing loss functions, layers and activation function, by using closures a praramaterized versions of those functions which holds some constant value while receiving others at invocation time."
      ],
      "metadata": {
        "id": "wKmHuwV-IveX"
      }
    },
    {
      "cell_type": "markdown",
      "source": [
        "### **Challange-4 Closure Factory**\n",
        "\n",
        "Define a funciton called \"create_counter\" that returns a counter which is closure.\n",
        "\n",
        "The counter function should increment the count before its returned.\n",
        "\n",
        "Implement \"create_counter\" so that it takes a prameter called 'start' that determines the starting count for the counter it returns, if no start value is provided, the by default its 1."
      ],
      "metadata": {
        "id": "9c44u4zgL-2_"
      }
    },
    {
      "cell_type": "code",
      "source": [
        "def create_counter(start=0):\n",
        "    count = [start]\n",
        "\n",
        "    def counter(): # this function has access to outer variables to read them, but cannot be modified. so only a list is taken as it is mutable\n",
        "        count[0] = count[0] + 1 # with this the counter is updated and can store most recent count\n",
        "        return count[0]\n",
        "\n",
        "    return counter\n",
        "\n",
        "counterA = create_counter()\n",
        "counterB = create_counter()"
      ],
      "metadata": {
        "id": "_wTdC_yTIq8u"
      },
      "execution_count": null,
      "outputs": []
    },
    {
      "cell_type": "code",
      "source": [
        "counterA()"
      ],
      "metadata": {
        "colab": {
          "base_uri": "https://localhost:8080/"
        },
        "id": "Qp8n6iguM3VB",
        "outputId": "de7e04e6-e0d0-49c9-c8b9-1db5feb2a97b"
      },
      "execution_count": null,
      "outputs": [
        {
          "output_type": "execute_result",
          "data": {
            "text/plain": [
              "1"
            ]
          },
          "metadata": {},
          "execution_count": 36
        }
      ]
    },
    {
      "cell_type": "code",
      "source": [
        "counterB()"
      ],
      "metadata": {
        "colab": {
          "base_uri": "https://localhost:8080/"
        },
        "id": "0-DSJsu0NISk",
        "outputId": "a7f68197-205f-41a8-a09b-57c6b98d9742"
      },
      "execution_count": null,
      "outputs": [
        {
          "output_type": "execute_result",
          "data": {
            "text/plain": [
              "2"
            ]
          },
          "metadata": {},
          "execution_count": 31
        }
      ]
    },
    {
      "cell_type": "code",
      "source": [
        "counterA()"
      ],
      "metadata": {
        "colab": {
          "base_uri": "https://localhost:8080/"
        },
        "id": "rWcSEmkSO9cY",
        "outputId": "98a0a6cb-3003-499d-c1c0-f82347531818"
      },
      "execution_count": null,
      "outputs": [
        {
          "output_type": "execute_result",
          "data": {
            "text/plain": [
              "3"
            ]
          },
          "metadata": {},
          "execution_count": 32
        }
      ]
    },
    {
      "cell_type": "markdown",
      "source": [
        "# **Decorators**\n",
        "\n",
        "A `Decorator` in python is a special kind of function that either modifies another function or extends it without explicitly changing its source code.\n",
        "\n",
        "Basically decorator is a design pattern in which it changes/enhances the behaviour of existing function without changing its source code.\n",
        "\n",
        "'@' is used to mark as decorator."
      ],
      "metadata": {
        "id": "HbujepnZRJqr"
      }
    },
    {
      "cell_type": "code",
      "source": [
        "def lift_thors_hammer(avenger):\n",
        "\n",
        "    def wrapper():\n",
        "        print(\"You have ability to use Thors hammer\")\n",
        "        return avenger()\n",
        "\n",
        "    return wrapper\n",
        "\n",
        "@lift_thors_hammer # decorator is applied, so here \"lift_thors_hammer\" takes the input as \"captian_america\" function\n",
        "def captian_america():\n",
        "    return \"I am the 1st avenger and i have shield as well\"\n",
        "\n",
        "@lift_thors_hammer # input is \"iron_man\" funtion, and here 1st wrapper is executed and then iron_man func is executed.\n",
        "def iron_man():\n",
        "    return \"I am IRON  MAN!!!\"\n",
        "\n",
        "def thanos():\n",
        "    return \"I am inevitable!!!\"\n",
        "\n",
        "# But \"thanos\" function remains same, as there is no enhancement to that function.\n"
      ],
      "metadata": {
        "id": "-U2TccfmPC4I"
      },
      "execution_count": null,
      "outputs": []
    },
    {
      "cell_type": "code",
      "source": [
        "captian_america()"
      ],
      "metadata": {
        "colab": {
          "base_uri": "https://localhost:8080/",
          "height": 53
        },
        "id": "1rpQCHLqfTnp",
        "outputId": "090a3839-862e-473b-96e9-5c938895837d"
      },
      "execution_count": null,
      "outputs": [
        {
          "output_type": "stream",
          "name": "stdout",
          "text": [
            "You have ability to use Thors hammer\n"
          ]
        },
        {
          "output_type": "execute_result",
          "data": {
            "text/plain": [
              "'I am the 1st avenger and i have shield as well'"
            ],
            "application/vnd.google.colaboratory.intrinsic+json": {
              "type": "string"
            }
          },
          "metadata": {},
          "execution_count": 3
        }
      ]
    },
    {
      "cell_type": "code",
      "source": [
        "iron_man()"
      ],
      "metadata": {
        "colab": {
          "base_uri": "https://localhost:8080/",
          "height": 53
        },
        "id": "JUjmmCHWfjOz",
        "outputId": "dd530bbf-2b3b-43c8-8d0e-2d3e9b148b79"
      },
      "execution_count": null,
      "outputs": [
        {
          "output_type": "stream",
          "name": "stdout",
          "text": [
            "You have ability to use Thors hammer\n"
          ]
        },
        {
          "output_type": "execute_result",
          "data": {
            "text/plain": [
              "'I am IRON  MAN!!!'"
            ],
            "application/vnd.google.colaboratory.intrinsic+json": {
              "type": "string"
            }
          },
          "metadata": {},
          "execution_count": 4
        }
      ]
    },
    {
      "cell_type": "code",
      "source": [
        "thanos()"
      ],
      "metadata": {
        "colab": {
          "base_uri": "https://localhost:8080/",
          "height": 36
        },
        "id": "m73n6CgefsN6",
        "outputId": "8f645e7e-cf9c-4ead-b2e3-6c70caf4eb4d"
      },
      "execution_count": null,
      "outputs": [
        {
          "output_type": "execute_result",
          "data": {
            "text/plain": [
              "'I am inevitable!!!'"
            ],
            "application/vnd.google.colaboratory.intrinsic+json": {
              "type": "string"
            }
          },
          "metadata": {},
          "execution_count": 5
        }
      ]
    },
    {
      "cell_type": "markdown",
      "source": [
        "The above functions are enhanced to use the other function(lift_thors_hammer) by using decorator. So everything works same as HOF but here there is no function modification instead it is decoratoed to use another function."
      ],
      "metadata": {
        "id": "w7iGD-Xnfvrs"
      }
    },
    {
      "cell_type": "code",
      "source": [
        "# without using decorator, \"thanos\" function is enhanced by extending thanos to lift thors hammer :)\n",
        "\n",
        "thanos_lift = lift_thors_hammer(thanos)\n",
        "thanos_lift()"
      ],
      "metadata": {
        "colab": {
          "base_uri": "https://localhost:8080/",
          "height": 53
        },
        "id": "-rmXIf0IftRa",
        "outputId": "083fd331-8038-4acc-db6f-e1a298c40848"
      },
      "execution_count": null,
      "outputs": [
        {
          "output_type": "stream",
          "name": "stdout",
          "text": [
            "You have ability to use Thors hammer\n"
          ]
        },
        {
          "output_type": "execute_result",
          "data": {
            "text/plain": [
              "'I am inevitable!!!'"
            ],
            "application/vnd.google.colaboratory.intrinsic+json": {
              "type": "string"
            }
          },
          "metadata": {},
          "execution_count": 6
        }
      ]
    },
    {
      "cell_type": "markdown",
      "source": [
        "#### Note\n",
        "A decorator can be applied to all the callables i.e. a function, class, method."
      ],
      "metadata": {
        "id": "ERRB3BGii7Ll"
      }
    },
    {
      "cell_type": "markdown",
      "source": [
        "## **Decorating Paramaterized functions**\n",
        "\n",
        "The above functions will fail if there are parameters to be given as input. From above functions, consider iron_man()\n",
        "\n",
        "```\n",
        "@lift_thors_hammer\n",
        "def iron_man(name):\n",
        "    return f\"I am {name}\"\n",
        "\n",
        "iron_man(\"Tony Stark\") # this will fail, saying type error, becuase wrapper() does not take any positional args\n",
        "```"
      ],
      "metadata": {
        "id": "ef_E5mE1jS7V"
      }
    },
    {
      "cell_type": "code",
      "source": [
        "def lift_thors_hammer(avenger):\n",
        "\n",
        "    def wrapper(*args, **kwargs): # not using **kwargs here\n",
        "        print(f\"{args}, You can lift Thors hammer\") # or you can give as args[0], args[1] or use a for loop to avoid tuple like display in output\n",
        "        return avenger(*args, **kwargs)\n",
        "\n",
        "    return wrapper\n",
        "\n",
        "@lift_thors_hammer\n",
        "def only_avengers(*name):\n",
        "    pass\n",
        "\n",
        "only_avengers(\"Caps\", \"Tony\")"
      ],
      "metadata": {
        "colab": {
          "base_uri": "https://localhost:8080/"
        },
        "id": "40-zht2eiPDl",
        "outputId": "1d2c6d91-0315-4e85-cabf-e3706b21779e"
      },
      "execution_count": null,
      "outputs": [
        {
          "output_type": "stream",
          "name": "stdout",
          "text": [
            "('Caps', 'Tony'), You can lift Thors hammer\n"
          ]
        }
      ]
    },
    {
      "cell_type": "markdown",
      "source": [
        "### **Challange-5 Logger Decorator**\n",
        "\n",
        "Define a decorator called `logger`, so that it logs out the function name, args/kwargs of the function, as well as the result."
      ],
      "metadata": {
        "id": "LprP9UFgo8S9"
      }
    },
    {
      "cell_type": "code",
      "source": [
        "def logger(func):\n",
        "\n",
        "    def wrapper(*args, **kwargs):\n",
        "        print(f\"Calling function: '{func.__name__}' with arguments: {args} {kwargs}\") # here func.__name__ is used to get name of the function\n",
        "        print(f\"Function '{func.__name__}' returned: \", func(*args))\n",
        "        return func(*args)\n",
        "\n",
        "    return wrapper\n",
        "\n",
        "@logger\n",
        "def calculate_sum(a, b):\n",
        "    return a + b\n",
        "\n",
        "calculate_sum(3, 6)"
      ],
      "metadata": {
        "id": "P_zZPglAmMEy",
        "colab": {
          "base_uri": "https://localhost:8080/"
        },
        "outputId": "d1d6b3fb-d51b-4501-fdf8-6a1ae4621e0f"
      },
      "execution_count": null,
      "outputs": [
        {
          "output_type": "stream",
          "name": "stdout",
          "text": [
            "Calling function: 'calculate_sum' with arguments: (3, 6) {}\n",
            "Function 'calculate_sum' returned:  9\n"
          ]
        },
        {
          "output_type": "execute_result",
          "data": {
            "text/plain": [
              "9"
            ]
          },
          "metadata": {},
          "execution_count": 7
        }
      ]
    },
    {
      "cell_type": "markdown",
      "source": [
        "### **Challange-6 Lotto Draw**\n",
        "\n",
        "Define a decorator called \"repeat\" that invokes a function of variable arity twice.\n",
        "\n",
        "Then, define a function called \"lotto_draw\" that takes a start, end number as args and returns randomly drawn from the range(inclusively)\n"
      ],
      "metadata": {
        "id": "8GS_LHI0OPoZ"
      }
    },
    {
      "cell_type": "code",
      "source": [
        "import random\n",
        "\n",
        "def repeat(func):\n",
        "\n",
        "    def wrapper(*args, **kwargs):\n",
        "        func(*args, **kwargs)\n",
        "        func(*args, **kwargs)\n",
        "\n",
        "    return wrapper\n",
        "\n",
        "@repeat\n",
        "def lotto_draw(start, end):\n",
        "\n",
        "    number = random.randint(start, end) # here randint will give the result inclusively\n",
        "    print(f\"Randomly drawn number: {number}\")\n",
        "\n",
        "lotto_draw(1, 49)"
      ],
      "metadata": {
        "id": "1TN9BPxyL02p",
        "colab": {
          "base_uri": "https://localhost:8080/"
        },
        "outputId": "5ccf6e67-76df-42a5-d11d-e578598ccaad"
      },
      "execution_count": null,
      "outputs": [
        {
          "output_type": "stream",
          "name": "stdout",
          "text": [
            "Randomly drawn number: 40\n",
            "Randomly drawn number: 15\n"
          ]
        }
      ]
    },
    {
      "cell_type": "markdown",
      "source": [
        "### **Challenge-7 Writing a Timer**\n",
        "\n",
        "Define a decorator called \"timed\" that measures the amount of time a given function takes to run and that out in seconds\n",
        "\n",
        "Define another function that takes some number of seconds to run and decorate it with \"timed\"\n"
      ],
      "metadata": {
        "id": "ZpLqAExx5C6t"
      }
    },
    {
      "cell_type": "code",
      "source": [
        "import time\n",
        "\n",
        "def timed(func):\n",
        "\n",
        "    def wrapper(*args, **kwargs):\n",
        "        start_time = time.time()\n",
        "        result = func(*args, **kwargs)\n",
        "        end_time = time.time()\n",
        "        print(f\"Function {func.__name__} took {end_time - start_time} seconds to execute\")\n",
        "        return result\n",
        "\n",
        "    return wrapper\n",
        "\n",
        "@timed\n",
        "def loop_this_many_times(n=10**6):\n",
        "\n",
        "    for i in range(n):\n",
        "        pass\n",
        "\n",
        "loop_this_many_times()"
      ],
      "metadata": {
        "colab": {
          "base_uri": "https://localhost:8080/"
        },
        "id": "z_lEp7N14u-n",
        "outputId": "c5a4e8a9-2686-4391-f302-9f199626fd70"
      },
      "execution_count": null,
      "outputs": [
        {
          "output_type": "stream",
          "name": "stdout",
          "text": [
            "Function loop_this_many_times took 0.01993870735168457 seconds to execute\n"
          ]
        }
      ]
    },
    {
      "cell_type": "markdown",
      "source": [
        "## **Decorators with Arguments**\n",
        "\n"
      ],
      "metadata": {
        "id": "w8rXe31RA1v-"
      }
    },
    {
      "cell_type": "code",
      "source": [
        "def end_game(func):\n",
        "\n",
        "    def wrapper(*args, **kwargs):\n",
        "        for arg in args:\n",
        "            if arg.lower() != \"thanos\":\n",
        "                result = func(*args, **kwargs)\n",
        "                if result < 10:\n",
        "                    print(f\"Well {func.__name__}, You are a champion avenger!!!\")\n",
        "                else:\n",
        "                    print(\"You need some training, please join with Nick Fury :(\")\n",
        "            else:\n",
        "                print(\"You are not an Avenger potato head😂\")\n",
        "\n",
        "    return wrapper\n",
        "\n",
        "@end_game\n",
        "def avenger(name):\n",
        "    name = name.lower()\n",
        "    days_war_can_be_finished = 0\n",
        "    if name == \"iron_man\":\n",
        "        days_war_can_be_finished = 7\n",
        "    elif name == \"thor\":\n",
        "        days_war_can_be_finished = 3\n",
        "    elif name == \"captian_america\":\n",
        "        days_war_can_be_finished = 9\n",
        "    elif name == \"black _widow\":\n",
        "        days_war_can_be_finished = 11\n",
        "    else:\n",
        "        print(\"Need to register and get trained to be avengers\")\n",
        "        days_war_can_be_finished = 10000000\n",
        "    return days_war_can_be_finished\n",
        "\n",
        "\n",
        "avenger(\"lokin\")"
      ],
      "metadata": {
        "colab": {
          "base_uri": "https://localhost:8080/"
        },
        "id": "cUy2egtm9Wgn",
        "outputId": "b94a5bf6-f8a3-4d23-b225-a01c1b08dee0"
      },
      "execution_count": null,
      "outputs": [
        {
          "output_type": "stream",
          "name": "stdout",
          "text": [
            "Need to register and get trained to be avengers\n",
            "You need some training, please join with Nick Fury :(\n"
          ]
        }
      ]
    },
    {
      "cell_type": "code",
      "source": [
        "# Gym calculator\n",
        "\n",
        "def ensure_healthy_workout(func):\n",
        "\n",
        "    def wrapper(*args, **kwargs):\n",
        "        result = func(*args, **kwargs)\n",
        "        if result < 500:\n",
        "            print(\"This workout was not intense enough :(\")\n",
        "        else:\n",
        "            print(f\"Well done! Target exceed by {result - 500} calories!!!\")\n",
        "\n",
        "    return wrapper"
      ],
      "metadata": {
        "id": "eL8fgHwwFJkO"
      },
      "execution_count": null,
      "outputs": []
    },
    {
      "cell_type": "code",
      "source": [
        "@ensure_healthy_workout\n",
        "def calories_burned(duration_in_min, calories_burned_per_min):\n",
        "    return duration_in_min * calories_burned_per_min\n",
        "\n",
        "calories_burned(30, 10)"
      ],
      "metadata": {
        "colab": {
          "base_uri": "https://localhost:8080/"
        },
        "id": "ix98hKhtG7sG",
        "outputId": "929b304a-bbd8-421b-e158-868269477681"
      },
      "execution_count": null,
      "outputs": [
        {
          "output_type": "stream",
          "name": "stdout",
          "text": [
            "This workout was not intense enough :(\n"
          ]
        }
      ]
    },
    {
      "cell_type": "code",
      "source": [
        "calories_burned(70, 10)"
      ],
      "metadata": {
        "colab": {
          "base_uri": "https://localhost:8080/"
        },
        "id": "zt5Pc-aKHnpV",
        "outputId": "8a9c12b8-a926-4ce4-a785-ffe9c0480c50"
      },
      "execution_count": null,
      "outputs": [
        {
          "output_type": "stream",
          "name": "stdout",
          "text": [
            "Well done! Target exceed by 200 calories!!!\n"
          ]
        }
      ]
    },
    {
      "cell_type": "markdown",
      "source": [
        "So, in the above function, it always assuems that we wanted to burn 500 calories during workout.\n",
        "\n",
        "The problem here is it might vary from person to person ori for the same person everytime.\n",
        "\n",
        "So there can be a redundant decorator or code for 500 cal, 300 cal ro 1000 cal. So the existing decorator needs to be more fleixible to take the target calories as well.\n",
        "\n",
        "Enhance the decorator that should take arguments, and check the logic against that argument. The main idea is to include an extra layer when we define decorator i.e. another function is define that takes arguments and return the decorator."
      ],
      "metadata": {
        "id": "GuBZgtiWHvhP"
      }
    },
    {
      "cell_type": "code",
      "source": [
        "# Gym calculator\n",
        "\n",
        "def ensure_healthy_workout(calories_target):\n",
        "\n",
        "    def actual_decorator(func):\n",
        "        def wrapper(*args, **kwargs):\n",
        "            result = func(*args, **kwargs)\n",
        "            if result < calories_target:\n",
        "                print(\"This workout was not intense enough :(\")\n",
        "            else:\n",
        "                print(f\"Well done! Target exceed by {result - 500} calories!!!\")\n",
        "\n",
        "        return wrapper\n",
        "\n",
        "    return actual_decorator\n",
        "\n",
        "@ensure_healthy_workout(calories_target=600)\n",
        "def calories_burned(duration_in_min, calories_burned_per_min):\n",
        "    return duration_in_min * calories_burned_per_min\n",
        "\n",
        "calories_burned(70, 10)"
      ],
      "metadata": {
        "colab": {
          "base_uri": "https://localhost:8080/"
        },
        "id": "H4A0Gg7qHr10",
        "outputId": "c7afd803-b78c-417f-a9f3-b7e3a2ee27bb"
      },
      "execution_count": null,
      "outputs": [
        {
          "output_type": "stream",
          "name": "stdout",
          "text": [
            "Well done! Target exceed by 200 calories!!!\n"
          ]
        }
      ]
    },
    {
      "cell_type": "markdown",
      "source": [
        "### **Challenge-8 Lotto Draw V-2**\n",
        "\n",
        "Enhance the funciton to generate the random number n times."
      ],
      "metadata": {
        "id": "hJhNR732OtmY"
      }
    },
    {
      "cell_type": "code",
      "source": [
        "import random\n",
        "\n",
        "def repeat(num_times):\n",
        "\n",
        "    def actual_decorator(func):\n",
        "        def wrapper(*args, **kwargs):\n",
        "            for i in range(num_times):\n",
        "                func(*args, **kwargs)\n",
        "\n",
        "        return wrapper\n",
        "\n",
        "    return actual_decorator\n",
        "\n",
        "@repeat(num_times=7)\n",
        "def lotto_draw(start, end):\n",
        "\n",
        "    number = random.randint(start, end) # here randint will give the result inclusively\n",
        "    print(f\"Randomly drawn number: {number}\")\n",
        "\n",
        "lotto_draw(1, 49)"
      ],
      "metadata": {
        "colab": {
          "base_uri": "https://localhost:8080/"
        },
        "id": "rdZutT6AM6Fa",
        "outputId": "fbee8559-2d4f-4674-c1a2-e03281f74f72"
      },
      "execution_count": null,
      "outputs": [
        {
          "output_type": "stream",
          "name": "stdout",
          "text": [
            "Randomly drawn number: 21\n",
            "Randomly drawn number: 45\n",
            "Randomly drawn number: 23\n",
            "Randomly drawn number: 47\n",
            "Randomly drawn number: 26\n",
            "Randomly drawn number: 3\n",
            "Randomly drawn number: 41\n"
          ]
        }
      ]
    },
    {
      "cell_type": "markdown",
      "source": [
        "## **Chaining Multiple Decorators**\n",
        "\n",
        "Applying multiple decorators at once adn this is called `decorator chaining`."
      ],
      "metadata": {
        "id": "ZP7To8LOO94B"
      }
    },
    {
      "cell_type": "code",
      "source": [
        "def uppercase(func):\n",
        "\n",
        "    def wrapper():\n",
        "        result = func()\n",
        "        return result.upper()\n",
        "\n",
        "    return wrapper\n",
        "\n",
        "def splitfunc(func):\n",
        "\n",
        "    def wrapper():\n",
        "        result = func()\n",
        "        return result.split()\n",
        "\n",
        "    return wrapper\n",
        "\n",
        "\n",
        "@splitfunc\n",
        "@uppercase\n",
        "def passphrase():\n",
        "    return \"Avengers infinity war followed by end game!!!\"\n",
        "\n",
        "passphrase()\n",
        "\n",
        "# order matters while chaining the decorators as output of one operation becomes input for next.\n",
        "# the decorator that is closest to the function name is applied 1st. bsically it means bottom to top is the order."
      ],
      "metadata": {
        "colab": {
          "base_uri": "https://localhost:8080/"
        },
        "id": "uLZkI9fsOkz7",
        "outputId": "2f8ea73e-dd48-4e30-c93b-bedf894de773"
      },
      "execution_count": null,
      "outputs": [
        {
          "output_type": "execute_result",
          "data": {
            "text/plain": [
              "['AVENGERS', 'INFINITY', 'WAR', 'FOLLOWED', 'BY', 'END', 'GAME!!!']"
            ]
          },
          "metadata": {},
          "execution_count": 36
        }
      ]
    },
    {
      "cell_type": "markdown",
      "source": [
        "## **Preserving Identity with @wraps**\n",
        "\n",
        "Having the metadata of a function is also important while debuigging code.\n",
        "\n",
        "the metadata like name, docs etc. These can be retrieved by using dunder methods as below\n",
        "\n",
        "```\n",
        "func.__name__ # to get the nameof function\n",
        "func.__doc__ # for the docstrings\n",
        "```\n",
        "\n",
        "Now when the decorator is applied on top of this function then all the metadata is overridden or lost as below"
      ],
      "metadata": {
        "id": "5D3sCHl9XfVX"
      }
    },
    {
      "cell_type": "code",
      "source": [
        "def passphrase():\n",
        "    \"\"\"Returns a string\"\"\"\n",
        "    return \"Avengers infinity war followed by end game!!!\"\n",
        "\n",
        "print(passphrase.__name__)\n",
        "print(passphrase.__doc__)"
      ],
      "metadata": {
        "colab": {
          "base_uri": "https://localhost:8080/"
        },
        "id": "YMO-OFvQV0JT",
        "outputId": "0056ddc1-bb1b-4c6b-a426-2bd4c7eb9ebc"
      },
      "execution_count": null,
      "outputs": [
        {
          "output_type": "stream",
          "name": "stdout",
          "text": [
            "passphrase\n",
            "Returns a string\n"
          ]
        }
      ]
    },
    {
      "cell_type": "code",
      "source": [
        "# After applying decorator\n",
        "\n",
        "def splitfunc(func):\n",
        "\n",
        "    def wrapper():\n",
        "        result = func()\n",
        "        return result.split()\n",
        "\n",
        "    return wrapper\n",
        "\n",
        "@splitfunc\n",
        "def passphrase():\n",
        "    \"\"\"Returns a string\"\"\"\n",
        "    return \"Avengers infinity war followed by end game!!!\"\n",
        "\n",
        "print(passphrase.__name__) # here metadata is overridden\n",
        "print(passphrase.__doc__)"
      ],
      "metadata": {
        "colab": {
          "base_uri": "https://localhost:8080/"
        },
        "id": "I4TnJsZnb_7q",
        "outputId": "b9f3f969-497e-4e45-a3ee-6f52bf36977b"
      },
      "execution_count": null,
      "outputs": [
        {
          "output_type": "stream",
          "name": "stdout",
          "text": [
            "wrapper\n",
            "None\n"
          ]
        }
      ]
    },
    {
      "cell_type": "markdown",
      "source": [
        "The reson for this is, when the decorator is called then it usually involves defining the inner function that is returned instead of original function.\n",
        "\n",
        "**Solution**<br>\n",
        "To avoid this behaviour, the metadata is copied from original function to the wrapper function so as to guarantee that wrapper looks like the original function. --> this is not recommended as it is tedious and prone to error\n",
        "\n",
        "Instead, use `functools wrap utility`"
      ],
      "metadata": {
        "id": "beZ8oQCbcR-A"
      }
    },
    {
      "cell_type": "code",
      "source": [
        "from functools import wraps\n",
        "\n",
        "def splitfunc(func):\n",
        "\n",
        "    @wraps(func) # this @wraps propagates metaata of the original function to wrapper function\n",
        "    def wrapper():\n",
        "        result = func()\n",
        "        return result.split()\n",
        "\n",
        "    return wrapper\n",
        "\n",
        "@splitfunc\n",
        "def passphrase():\n",
        "    \"\"\"Returns a string\"\"\"\n",
        "    return \"Avengers infinity war followed by end game!!!\"\n",
        "\n",
        "print(passphrase.__name__)\n",
        "print(passphrase.__doc__)"
      ],
      "metadata": {
        "colab": {
          "base_uri": "https://localhost:8080/"
        },
        "id": "M5dHdBpScJN6",
        "outputId": "e312fb15-d1a5-4160-99ff-e20caacfc8d2"
      },
      "execution_count": null,
      "outputs": [
        {
          "output_type": "stream",
          "name": "stdout",
          "text": [
            "passphrase\n",
            "Returns a string\n"
          ]
        }
      ]
    },
    {
      "cell_type": "markdown",
      "source": [
        "**@wraps**, this works as copying the metadata from original function to wrapper function.\n",
        "\n",
        "This is done by using `__wrapped__` attribute dunder method"
      ],
      "metadata": {
        "id": "8cIgPgqNd3Ol"
      }
    },
    {
      "cell_type": "code",
      "source": [
        "passphrase.__wrapped__.__name__ is passphrase.__name__ # it returns True as both arre same now"
      ],
      "metadata": {
        "colab": {
          "base_uri": "https://localhost:8080/"
        },
        "id": "gPfqTe1GdxMw",
        "outputId": "44f66935-89d9-4a48-b254-767d39209cd5"
      },
      "execution_count": null,
      "outputs": [
        {
          "output_type": "execute_result",
          "data": {
            "text/plain": [
              "True"
            ]
          },
          "metadata": {},
          "execution_count": 40
        }
      ]
    },
    {
      "cell_type": "markdown",
      "source": [
        "### **Challenge-9 Delaying Downloads**\n",
        "\n",
        "Write a placeholder function called \"download(user_id, resource)\" that simulates the generation of a download link. As of now that could be a uuid() or random alphanumeric string.\n",
        "\n",
        "Define a decorator that progressively slows down the downloads for a given user by doubling the time it takes for the download link to be generated e.g. the 1st invocation happens instantly, the second takes 1 second, 3rd takes 2 seconds and so on\n",
        "\n",
        "The delay should be user-specific not the resource specific"
      ],
      "metadata": {
        "id": "26-WM10Be3Gu"
      }
    },
    {
      "cell_type": "code",
      "source": [
        "from uuid import uuid4\n",
        "\n",
        "uuid4() # UUID --> Universal unique Identifier\n",
        "str(uuid4())"
      ],
      "metadata": {
        "colab": {
          "base_uri": "https://localhost:8080/",
          "height": 36
        },
        "id": "8Jh2Gvf0zyK-",
        "outputId": "5369d4fe-df32-486c-f470-54a644728819"
      },
      "execution_count": null,
      "outputs": [
        {
          "output_type": "execute_result",
          "data": {
            "text/plain": [
              "'1b167e97-0084-4ca0-9110-22d34e89486f'"
            ],
            "application/vnd.google.colaboratory.intrinsic+json": {
              "type": "string"
            }
          },
          "metadata": {},
          "execution_count": 42
        }
      ]
    },
    {
      "cell_type": "code",
      "source": [
        "import time\n",
        "from uuid import uuid4\n",
        "\n",
        "user_delay = {}\n",
        "\n",
        "def delay_download(func):\n",
        "\n",
        "    def wrapper(*args, **kwargs):\n",
        "        delay = user_delay.get(kwargs.get(\"user_id\"), 0)\n",
        "        user_delay[kwargs.get(\"user_id\")] = max(1, delay * 2)\n",
        "        if delay > 0:\n",
        "            print(f\"Your download will start in {delay}s\")\n",
        "\n",
        "        time.sleep(delay)\n",
        "        return func(*args, **kwargs)\n",
        "\n",
        "    return wrapper\n",
        "\n",
        "@delay_download\n",
        "def download(user_id, resource):\n",
        "    download_uuid = uuid4()\n",
        "    download_url = f\"pavankumar.com/{download_uuid}\"\n",
        "\n",
        "    return f\"Your download is ready at: {download_url}\""
      ],
      "metadata": {
        "id": "8cirVIyTeaLZ"
      },
      "execution_count": null,
      "outputs": []
    },
    {
      "cell_type": "code",
      "source": [
        "download(2, \"Linux\")"
      ],
      "metadata": {
        "colab": {
          "base_uri": "https://localhost:8080/",
          "height": 70
        },
        "id": "mgKXAuRC2paK",
        "outputId": "4fab0159-45d6-4568-e30e-d0f40be233a8"
      },
      "execution_count": null,
      "outputs": [
        {
          "output_type": "stream",
          "name": "stdout",
          "text": [
            "dict_keys([None])\n",
            "Your download will start in 1s\n"
          ]
        },
        {
          "output_type": "execute_result",
          "data": {
            "text/plain": [
              "'Your download is ready at: pavankumar.com/a402279c-d483-4d97-94d3-f2fa5b7f9209'"
            ],
            "application/vnd.google.colaboratory.intrinsic+json": {
              "type": "string"
            }
          },
          "metadata": {},
          "execution_count": 65
        }
      ]
    },
    {
      "cell_type": "markdown",
      "source": [
        "### **Challenge-10 Authenticaor workflow**"
      ],
      "metadata": {
        "id": "hSBrq4GaAwp7"
      }
    },
    {
      "cell_type": "code",
      "source": [
        "ROSTER = [\n",
        "    {\n",
        "        \"name\": \"Tony\", \"votes\": 12\n",
        "    },\n",
        "        {\n",
        "        \"name\": \"Caps\", \"votes\": 10\n",
        "    },\n",
        "        {\n",
        "        \"name\": \"Spidy\", \"votes\": 8\n",
        "    }\n",
        "]\n",
        "\n",
        "USERNAME = \"Pavan\"\n",
        "PASSWORD = \"admin123\"\n",
        "\n",
        "AUTH_USER = set()"
      ],
      "metadata": {
        "id": "CvADDYZC2tOI"
      },
      "execution_count": null,
      "outputs": []
    },
    {
      "cell_type": "code",
      "source": [
        "def voting_menu():\n",
        "\n",
        "    while True:\n",
        "        print(\"\"\"\n",
        "        a. View Roster\n",
        "        b. Upvote\n",
        "        c. Add to Roster\n",
        "        d. Quit\n",
        "        \"\"\")\n",
        "\n",
        "        option = input(\"Choose an option from the menu: \").lower()\n",
        "\n",
        "        if option == \"a\":\n",
        "            view_roster()\n",
        "        elif option == \"b\":\n",
        "            upvote()\n",
        "        elif option == \"c\":\n",
        "            add_to_roster()\n",
        "        else:\n",
        "            break\n",
        "\n",
        "def view_roster():\n",
        "    sorted_roster = sorted(ROSTER, key=lambda x: x[\"votes\"], reverse=True)\n",
        "\n",
        "    for rost in sorted_roster:\n",
        "        print(f\"{rost['name']}: {rost['votes']}\")\n",
        "\n",
        "def upvote():\n",
        "    name = input(\"Enter a name of the person you like to vote: \").lower()\n",
        "\n",
        "    for rost in ROSTER:\n",
        "        if rost[\"name\"].lower() == name:\n",
        "            rost[\"votes\"] += 1\n",
        "            print(f\"Upvoted for {rost['name']}!!!\")\n",
        "            return\n",
        "    print(\"Name not found :(\")\n",
        "\n",
        "def add_to_roster():\n",
        "    name = input(\"Enter the name of person you want to add: \")\n",
        "    ROSTER.append({'name': name, 'votes': 0})\n",
        "    print(f\"Added {name} to the roster\")"
      ],
      "metadata": {
        "id": "1K4Qx0m2BTAd"
      },
      "execution_count": null,
      "outputs": []
    },
    {
      "cell_type": "code",
      "source": [
        "voting_menu()"
      ],
      "metadata": {
        "colab": {
          "base_uri": "https://localhost:8080/"
        },
        "id": "x3M_KCmxB6td",
        "outputId": "7fc42760-988e-48b6-e3cc-32ae3067cf41"
      },
      "execution_count": null,
      "outputs": [
        {
          "name": "stdout",
          "output_type": "stream",
          "text": [
            "\n",
            "        a. View Roster\n",
            "        b. Upvote\n",
            "        c. Add to Roster\n",
            "        d. Quit\n",
            "        \n",
            "Choose an option from the menu: d\n"
          ]
        }
      ]
    },
    {
      "cell_type": "markdown",
      "source": [
        "The above is the basic voting system. Now a basic login authentication system needs to be introduced"
      ],
      "metadata": {
        "id": "Q-6wpJ-VEm4B"
      }
    },
    {
      "cell_type": "code",
      "source": [
        "# Enable Authentication --> Not advanced authentication system\n",
        "from functools import wraps\n",
        "\n",
        "def authd(func):\n",
        "\n",
        "    @wraps(func)\n",
        "    def wrapper(*args, **kwargs):\n",
        "\n",
        "        if USERNAME not in AUTH_USER:\n",
        "            enter_username = input(\"Enter Username: \")\n",
        "            enter_password = input(\"Enter Password: \") # for advanced authentication, you need to use database, encryptions and validate the username and password. Its not done here\n",
        "\n",
        "            if enter_password != PASSWORD or enter_username != USERNAME:\n",
        "                print(\"Authentication Failed :(\")\n",
        "                return\n",
        "            AUTH_USER.add(enter_username)\n",
        "\n",
        "        func(*args, **kwargs)\n",
        "\n",
        "    return wrapper\n",
        "\n",
        "\n",
        "def voting_menu():\n",
        "\n",
        "    while True:\n",
        "        print(\"\"\"\n",
        "        a. View Roster\n",
        "        b. Upvote\n",
        "        c. Add to Roster\n",
        "        d. Quit\n",
        "        \"\"\")\n",
        "\n",
        "        option = input(\"Choose an option from the menu: \").lower()\n",
        "\n",
        "        if option == \"a\":\n",
        "            view_roster()\n",
        "        elif option == \"b\":\n",
        "            upvote()\n",
        "        elif option == \"c\":\n",
        "            add_to_roster()\n",
        "        else:\n",
        "            break\n",
        "\n",
        "def view_roster():\n",
        "    sorted_roster = sorted(ROSTER, key=lambda x: x[\"votes\"], reverse=True)\n",
        "\n",
        "    for rost in sorted_roster:\n",
        "        print(f\"{rost['name']}: {rost['votes']}\")\n",
        "\n",
        "@authd\n",
        "def upvote():\n",
        "    name = input(\"Enter a name of the person you like to vote: \").lower()\n",
        "\n",
        "    for rost in ROSTER:\n",
        "        if rost[\"name\"].lower() == name:\n",
        "            rost[\"votes\"] += 1\n",
        "            print(f\"Upvoted for {rost['name']}!!!\")\n",
        "            return\n",
        "    print(\"Name not found :(\")\n",
        "\n",
        "@authd\n",
        "def add_to_roster():\n",
        "    name = input(\"Enter the name of person you want to add: \")\n",
        "    ROSTER.append({'name': name, 'votes': 0})\n",
        "    print(f\"Added {name} to the roster\")"
      ],
      "metadata": {
        "id": "cyOTOpnGEPAh"
      },
      "execution_count": null,
      "outputs": []
    },
    {
      "cell_type": "code",
      "source": [
        "voting_menu()"
      ],
      "metadata": {
        "colab": {
          "base_uri": "https://localhost:8080/"
        },
        "id": "Lu-5lYaWHx4E",
        "outputId": "cb249e86-e4bd-4407-ddc3-ee24063e7b2d"
      },
      "execution_count": null,
      "outputs": [
        {
          "name": "stdout",
          "output_type": "stream",
          "text": [
            "\n",
            "        a. View Roster\n",
            "        b. Upvote\n",
            "        c. Add to Roster\n",
            "        d. Quit\n",
            "        \n",
            "Choose an option from the menu: a\n",
            "Tony: 12\n",
            "Caps: 10\n",
            "Spidy: 8\n",
            "\n",
            "        a. View Roster\n",
            "        b. Upvote\n",
            "        c. Add to Roster\n",
            "        d. Quit\n",
            "        \n",
            "Choose an option from the menu: b\n",
            "Enter Username: pavan\n",
            "Enter Password: admin123\n",
            "Authentication Failed :(\n",
            "\n",
            "        a. View Roster\n",
            "        b. Upvote\n",
            "        c. Add to Roster\n",
            "        d. Quit\n",
            "        \n",
            "Choose an option from the menu: b\n",
            "Enter Username: Pavan\n",
            "Enter Password: admin123\n",
            "Enter a name of the person you like to vote: tony\n",
            "Upvoted for Tony!!!\n",
            "\n",
            "        a. View Roster\n",
            "        b. Upvote\n",
            "        c. Add to Roster\n",
            "        d. Quit\n",
            "        \n",
            "Choose an option from the menu: c\n",
            "Enter the name of person you want to add: thanos\n",
            "Added thanos to the roster\n",
            "\n",
            "        a. View Roster\n",
            "        b. Upvote\n",
            "        c. Add to Roster\n",
            "        d. Quit\n",
            "        \n",
            "Choose an option from the menu: a\n",
            "Tony: 13\n",
            "Caps: 10\n",
            "Spidy: 8\n",
            "thanos: 0\n",
            "\n",
            "        a. View Roster\n",
            "        b. Upvote\n",
            "        c. Add to Roster\n",
            "        d. Quit\n",
            "        \n",
            "Choose an option from the menu: d\n"
          ]
        }
      ]
    },
    {
      "cell_type": "markdown",
      "source": [
        "### **Challenge-11 Simple Cache system**"
      ],
      "metadata": {
        "id": "rzW9iBqcJExL"
      }
    },
    {
      "cell_type": "code",
      "source": [
        "import time\n",
        "import random\n",
        "from functools import wraps\n",
        "\n",
        "# intoduce cache\n",
        "\n",
        "# cache = {\n",
        "#     \"city1\":{\n",
        "#         \"data\": \"weather\",\n",
        "#         \"time\": 123456789\n",
        "#     },\n",
        "#     \"city2\": {} ....\n",
        "# }\n",
        "\n",
        "cache = {}\n",
        "\n",
        "def cache_mechanism(func):\n",
        "\n",
        "    @wraps(func)\n",
        "    def wrapper(*args, **kwargs):\n",
        "        if args in cache and time.time() - cache[args][\"time\"] < 10: # if the entered data is less than 10 seconds then it fetches from cache, otherwise it retrives new result\n",
        "            print(f\"Returning cached result for city {args}\")\n",
        "            return cache[args]['data']\n",
        "        result = func(args)\n",
        "        cache[args] = {\n",
        "            \"data\": result,\n",
        "            \"time\": time.time()\n",
        "        }\n",
        "        return result\n",
        "\n",
        "    return wrapper\n",
        "\n",
        "@cache_mechanism\n",
        "def get_weather(city):\n",
        "\n",
        "    print(f\"Fteching weather data for {city[0]}\")\n",
        "    time.sleep(1)\n",
        "\n",
        "    weahter_data = {\n",
        "        'temperature': random.randint(-10, 30),\n",
        "        'humidity': random.randint(0, 100)\n",
        "    }\n",
        "\n",
        "    return weahter_data"
      ],
      "metadata": {
        "id": "q1JEzV-bHzTs"
      },
      "execution_count": null,
      "outputs": []
    },
    {
      "cell_type": "code",
      "source": [
        "get_weather(\"Hyderabad\")"
      ],
      "metadata": {
        "colab": {
          "base_uri": "https://localhost:8080/"
        },
        "id": "SIKhjDhsKSjv",
        "outputId": "1fc225ff-7ed9-46a8-cb0b-e3617f68516a"
      },
      "execution_count": null,
      "outputs": [
        {
          "output_type": "stream",
          "name": "stdout",
          "text": [
            "Returning cached result for city ('Hyderabad',)\n"
          ]
        },
        {
          "output_type": "execute_result",
          "data": {
            "text/plain": [
              "{'temperature': -1, 'humidity': 83}"
            ]
          },
          "metadata": {},
          "execution_count": 101
        }
      ]
    },
    {
      "cell_type": "code",
      "source": [],
      "metadata": {
        "id": "hhJcFNoNMe1v"
      },
      "execution_count": null,
      "outputs": []
    }
  ]
}