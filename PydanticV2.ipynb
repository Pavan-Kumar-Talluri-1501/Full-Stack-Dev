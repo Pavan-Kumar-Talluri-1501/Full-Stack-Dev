{
  "nbformat": 4,
  "nbformat_minor": 0,
  "metadata": {
    "colab": {
      "provenance": [],
      "toc_visible": true,
      "collapsed_sections": [
        "B62CrIzHlY3A"
      ],
      "authorship_tag": "ABX9TyOANMyg0uXR5j9vd/hrpvz8",
      "include_colab_link": true
    },
    "kernelspec": {
      "name": "python3",
      "display_name": "Python 3"
    },
    "language_info": {
      "name": "python"
    }
  },
  "cells": [
    {
      "cell_type": "markdown",
      "metadata": {
        "id": "view-in-github",
        "colab_type": "text"
      },
      "source": [
        "<a href=\"https://colab.research.google.com/github/Pavan-Kumar-Talluri-1501/Full-Stack-Dev/blob/FastAPI_prerequsites/PydanticV2.ipynb\" target=\"_parent\"><img src=\"https://colab.research.google.com/assets/colab-badge.svg\" alt=\"Open In Colab\"/></a>"
      ]
    },
    {
      "cell_type": "markdown",
      "source": [
        "# **Pydantic V2**\n",
        "\n",
        "A Powerful library in python for `data validation` and `modelling`.\n",
        "\n",
        "Pydantic is a declarative way to define data models, as well as a powerful validation engine to ensure that the data adheres to the models i.e. the specific types and constraints that are specified."
      ],
      "metadata": {
        "id": "B62CrIzHlY3A"
      }
    },
    {
      "cell_type": "markdown",
      "source": [
        "## **Ability of Pydantic**\n",
        "\n",
        "- Specifiy the expected format and data constraints using python type hints and declarative syntax.\n",
        "\n",
        "- Ensuring that the incoming information/data adheres to our specifications mentioned above, which inturn enables us to cathc errors and inconsistencies before they cause problems in application.\n",
        "- Automatically generating comprehensive documentation for data models.\n",
        "- Ability to simplify serialization and deserialization aspects. One can easily convert data models to and from various soure and target formats."
      ],
      "metadata": {
        "id": "CkUIngg2liYr"
      }
    },
    {
      "cell_type": "markdown",
      "source": [
        "## **Workflow of Pydantic**\n",
        "\n",
        "1. `Define a data model`, i.e. a python class that inherits from BaseModel (pydantic basemodel class), this class specifies the attributes of the data including types, constraints and validation rules. This is completely a declarative specificaitons how data should look like.\n",
        "2. `Create instances` of the above model by passing data to model constructor that we received from outside world. Here the data us validated as per the above rules and concerns are raised if the data format is inconsistent.\n",
        "3. Once instantiated, `manipulate the attributes` like any other python object.\n",
        "4. Optionally, deserialize the data and export it to target format."
      ],
      "metadata": {
        "id": "VVGiA-aGST-t"
      }
    },
    {
      "cell_type": "markdown",
      "source": [
        "# **Pydantic Model**"
      ],
      "metadata": {
        "id": "NqdZVYqNlMp4"
      }
    },
    {
      "cell_type": "code",
      "source": [
        "!pip install pydantic==2.5.3"
      ],
      "metadata": {
        "collapsed": true,
        "id": "GPt_SSX3mOfu"
      },
      "execution_count": null,
      "outputs": []
    },
    {
      "cell_type": "code",
      "execution_count": null,
      "metadata": {
        "id": "nsqugp_ESPew"
      },
      "outputs": [],
      "source": [
        "import pydantic\n",
        "\n",
        "print(pydantic.VERSION)"
      ]
    },
    {
      "cell_type": "markdown",
      "source": [
        "`BaseModel` is the base class that all pydantic models inherit from, it provides core functionality that we need to define and use our models."
      ],
      "metadata": {
        "id": "_OceDjaqpH-M"
      }
    },
    {
      "cell_type": "code",
      "source": [
        "from pydantic import BaseModel\n",
        "\n",
        "# Data Model\n",
        "class Avengers(BaseModel): # \"Avengers\" will have the functionality of BaseModel class\n",
        "    \"\"\"\n",
        "    Attributes to be captured for Avengers data model\n",
        "    <attributes>: <type>\n",
        "    \"\"\"\n",
        "    name: str\n",
        "    age: int\n",
        "    speciality: str\n",
        "    email: str\n",
        "\n",
        "    # now pydantic is aware that, input data should be of the above types\n",
        "\n",
        "# Create instances\n",
        "iron_man = Avengers(name=\"Tony Stark\", age=52, speciality=\"Iron\", email=\"irontony@hotmail.com\")"
      ],
      "metadata": {
        "id": "yNdEt99Knlxt"
      },
      "execution_count": null,
      "outputs": []
    },
    {
      "cell_type": "code",
      "source": [
        "print(iron_man.name)\n",
        "print(iron_man.age)"
      ],
      "metadata": {
        "id": "D8zFSEyro4wh"
      },
      "execution_count": null,
      "outputs": []
    },
    {
      "cell_type": "code",
      "source": [
        "cap_america = Avengers(name=\"Steve\", age=\"72huhhu\", speciality=\"super human\", email=\"shieldcaps@gmail.com\")\n",
        "print(cap_america.age)"
      ],
      "metadata": {
        "id": "O_asfNK9tIpe"
      },
      "execution_count": null,
      "outputs": []
    },
    {
      "cell_type": "markdown",
      "source": [
        "Here the validation error is raised becuase for \"age\" instead of integer, a string is passed.\n",
        "\n",
        "This validation error stops the execution flow, instead create a model by using try, catch blocks."
      ],
      "metadata": {
        "id": "G1yjFmW2ujdB"
      }
    },
    {
      "cell_type": "code",
      "source": [
        "try:\n",
        "    cap_america = Avengers(name=\"Steve\", age=\"72huhhu\", speciality=\"super human\", email=\"shieldcaps@gmail.com\")\n",
        "except pydantic.ValidationError as e:\n",
        "    print(e)"
      ],
      "metadata": {
        "id": "jhWug4LeuMWn"
      },
      "execution_count": null,
      "outputs": []
    },
    {
      "cell_type": "markdown",
      "source": [
        "## **Coercion and strict types**\n",
        "\n",
        "```\n",
        "try:\n",
        "    cap_america = Avengers(name=\"Steve\", age=\"72\", speciality=\"super human\", email=\"shieldcaps@gmail.com\")\n",
        "except pydantic.ValidationError as e:\n",
        "    print(e)\n",
        "```\n",
        "\n",
        "So, here \"age\" attribute is still a string, but pydantic will not throw any exception which means its valid.\n",
        "\n",
        "**This is because, pydantic not only checks the data we pass in, but also tries to convert the data to the specified target type and if this operation fails then it raises validation exception**."
      ],
      "metadata": {
        "id": "-utdxgMVv5F5"
      }
    },
    {
      "cell_type": "code",
      "source": [
        "# In the above \"age\" attribute this happens, age is int --> str is copnverted to int\n",
        "int(\"25\") # this is succedeeds so exception is not raised"
      ],
      "metadata": {
        "id": "ZfuRSNBgvdNo"
      },
      "execution_count": null,
      "outputs": []
    },
    {
      "cell_type": "code",
      "source": [
        "int(\"72adfa\") # this raises exception as it is invalid literal for integer"
      ],
      "metadata": {
        "id": "IRpk-s_wG1Wx"
      },
      "execution_count": null,
      "outputs": []
    },
    {
      "cell_type": "markdown",
      "source": [
        "The above is called **`type coercion`**.\n",
        "\n",
        "Here we can enforce a strict type checking, this can be done by custom validation or by defininf configuration to the model."
      ],
      "metadata": {
        "id": "i8Cl-MzGHLM5"
      }
    },
    {
      "cell_type": "code",
      "source": [
        "from pydantic import BaseModel\n",
        "\n",
        "class User(BaseModel): # this outer class defines the model\n",
        "    name: str\n",
        "    age: int\n",
        "    email: str\n",
        "\n",
        "    class Config: # inner class defines some configuration that applies to that model\n",
        "        strict = True"
      ],
      "metadata": {
        "id": "UInwdL8dHBwV"
      },
      "execution_count": null,
      "outputs": []
    },
    {
      "cell_type": "markdown",
      "source": [
        "The above `Config` is applied to all the fields in the data model."
      ],
      "metadata": {
        "id": "0llHmUa1NwIs"
      }
    },
    {
      "cell_type": "code",
      "source": [
        "try:\n",
        "    user = User(name='Pavan', age='25', email='spiderman@gmail.com')\n",
        "except pydantic.ValidationError as e:\n",
        "    print(e)"
      ],
      "metadata": {
        "id": "ncMsMbFJMcJX"
      },
      "execution_count": null,
      "outputs": []
    },
    {
      "cell_type": "markdown",
      "source": [
        "Instead of executing \"strict\" to every attribute, only apply to age which type is interge. This can be done by `pydantic strict types` i.e. by using `StrictInt`"
      ],
      "metadata": {
        "id": "flG_sLcMN_2a"
      }
    },
    {
      "cell_type": "code",
      "source": [
        "from pydantic import BaseModel, StrictInt\n",
        "\n",
        "class User(BaseModel): # using StrictInt\n",
        "    name: str\n",
        "    age: StrictInt\n",
        "    email: str"
      ],
      "metadata": {
        "id": "Tp8bJds5Np-a"
      },
      "execution_count": null,
      "outputs": []
    },
    {
      "cell_type": "code",
      "source": [
        "try:\n",
        "    user = User(name='Pavan', age='25', email='spiderman@gmail.com')\n",
        "except pydantic.ValidationError as e:\n",
        "    print(e)"
      ],
      "metadata": {
        "id": "W2YvYe13OfBb"
      },
      "execution_count": null,
      "outputs": []
    },
    {
      "cell_type": "markdown",
      "source": [
        "## **Setting up additional conditions for Data model**\n",
        "\n",
        "* age should be between 18 to 100 years old\n",
        "* name should be 3 to 50 characters long\n",
        "* email should be a valid email address\n",
        "\n",
        "\n",
        "Pydantic offers a function called **`field`**, which allows to specify additional constraints and metadata for each of the attributes."
      ],
      "metadata": {
        "id": "eayBecZDQnLz"
      }
    },
    {
      "cell_type": "code",
      "source": [
        "from pydantic import BaseModel, StrictInt, Field\n",
        "\n",
        "class User(BaseModel):\n",
        "    name: str = Field(min_length=3, max_length=50) # string length should be 3 to 50\n",
        "    age: StrictInt = Field(ge=18, le=100) # ge --> greater than or equal to, le --> less than or equal to\n",
        "    email: str"
      ],
      "metadata": {
        "id": "vyYmQKZ8OgJ7"
      },
      "execution_count": null,
      "outputs": []
    },
    {
      "cell_type": "code",
      "source": [
        "try:\n",
        "    user = User(name='Pa', age=2, email='spiderman@gmail.com') # raises exception as age is less than '18'\n",
        "except pydantic.ValidationError as e:\n",
        "    print(e)"
      ],
      "metadata": {
        "id": "je83IKPlU-82"
      },
      "execution_count": null,
      "outputs": []
    },
    {
      "cell_type": "markdown",
      "source": [
        "Now, for email validation there is function called **`EmailStr`** which validates whether it is email or not."
      ],
      "metadata": {
        "id": "htT1Q6moVz4Y"
      }
    },
    {
      "cell_type": "markdown",
      "source": [
        "### **Note**\n",
        "`EmailStr` function depends on external packages called `email-validator` which needs to be installed."
      ],
      "metadata": {
        "id": "q_aCO8_RXSaZ"
      }
    },
    {
      "cell_type": "code",
      "source": [
        "!pip install email-validator==2.1.0"
      ],
      "metadata": {
        "id": "uqePmZDhVCrL"
      },
      "execution_count": null,
      "outputs": []
    },
    {
      "cell_type": "code",
      "source": [
        "from pydantic import BaseModel, StrictInt, Field, EmailStr\n",
        "\n",
        "class User(BaseModel):\n",
        "    name: str = Field(min_length=3, max_length=50) # string length should be 3 to 50\n",
        "    age: StrictInt = Field(ge=18, le=100) # ge --> greater than or equal to, le --> less than or equal to\n",
        "    email: EmailStr"
      ],
      "metadata": {
        "id": "UkniKOWrWi-N"
      },
      "execution_count": null,
      "outputs": []
    },
    {
      "cell_type": "code",
      "source": [
        "try:\n",
        "    user = User(name='Pa', age=2, email='spiderman@@gmail.com') # raises exception as age is less than '18'\n",
        "except pydantic.ValidationError as e:\n",
        "    print(e)"
      ],
      "metadata": {
        "id": "YYMP9dvvWo3j"
      },
      "execution_count": null,
      "outputs": []
    },
    {
      "cell_type": "markdown",
      "source": [
        "# **Type Hinting Foundations**"
      ],
      "metadata": {
        "id": "EL06K4LOXDzG"
      }
    },
    {
      "cell_type": "markdown",
      "source": [
        "## **Date and Time Types**"
      ],
      "metadata": {
        "id": "ee8gh4tZXK6C"
      }
    },
    {
      "cell_type": "code",
      "source": [
        "from datetime import date, time\n",
        "from pydantic import BaseModel\n",
        "\n",
        "# 2025-07-01 --> simple date\n",
        "\n",
        "class Event_manager(BaseModel):\n",
        "    event_date: date\n",
        "    event_time: time"
      ],
      "metadata": {
        "id": "qPUTmyreWrTN"
      },
      "execution_count": null,
      "outputs": []
    },
    {
      "cell_type": "code",
      "source": [
        "try:\n",
        "    event = Event_manager(event_date=\"2024-03-03\", event_time=\"18:00:00\") # \"YYYY-MM-DD\"\n",
        "except pydantic.ValidationError as e:\n",
        "    print(e)"
      ],
      "metadata": {
        "id": "P3rKaxRGZ50E"
      },
      "execution_count": null,
      "outputs": []
    },
    {
      "cell_type": "code",
      "source": [
        "# Combination of both date and time\n",
        "from datetime import datetime\n",
        "from pydantic import BaseModel\n",
        "\n",
        "class Appointment(BaseModel):\n",
        "    start_time: datetime\n",
        "\n",
        "try:\n",
        "    # appoint = Appointment(start_time=datetime.now())\n",
        "    appoint = Appointment(start_time=\"2024-03-03T10:00:00\")\n",
        "except pydantic.ValidationError as e:\n",
        "    print(e)\n",
        "\n",
        "appoint"
      ],
      "metadata": {
        "colab": {
          "base_uri": "https://localhost:8080/"
        },
        "id": "SPe4nndIagIu",
        "outputId": "aac19c4a-de11-4e3f-b6f1-470cc996750d"
      },
      "execution_count": null,
      "outputs": [
        {
          "output_type": "execute_result",
          "data": {
            "text/plain": [
              "Appointment(start_time=datetime.datetime(2024, 3, 3, 10, 0))"
            ]
          },
          "metadata": {},
          "execution_count": 61
        }
      ]
    },
    {
      "cell_type": "markdown",
      "source": [
        "## **Lists and Nested Lists**\n",
        "\n",
        "`Lists` are ordered collections of items and are mutalble.\n",
        "\n",
        "Define a simple pyantic model that consists list of items."
      ],
      "metadata": {
        "id": "YVm8dwqrdjg2"
      }
    },
    {
      "cell_type": "code",
      "source": [
        "[2, 3, 4, 5, 6]\n",
        "\n",
        "# by list-comprehenssion\n",
        "[x for x in range(1, 11)]"
      ],
      "metadata": {
        "colab": {
          "base_uri": "https://localhost:8080/"
        },
        "id": "IZLfHxGicAR2",
        "outputId": "7f877dc6-3ad9-4e3a-cafb-8c4f6b4abdaf"
      },
      "execution_count": null,
      "outputs": [
        {
          "output_type": "execute_result",
          "data": {
            "text/plain": [
              "[1, 2, 3, 4, 5, 6, 7, 8, 9, 10]"
            ]
          },
          "metadata": {},
          "execution_count": 63
        }
      ]
    },
    {
      "cell_type": "code",
      "source": [
        "from typing import List\n",
        "from pydantic import BaseModel, Field\n",
        "\n",
        "class ShoppingCart(BaseModel):\n",
        "    # items: List[str] # items are list of strings, this can be \"list[str]\"\n",
        "    # make sure there are only 5 items at max\n",
        "    items: List[str] = Field(max_items=5, min_items=2)"
      ],
      "metadata": {
        "id": "4v-sP7edd1rm"
      },
      "execution_count": null,
      "outputs": []
    },
    {
      "cell_type": "code",
      "source": [
        "try:\n",
        "    cart = ShoppingCart(items=[\"Grapes\", \"Pears\", \"cherries\"])\n",
        "    print(cart)\n",
        "except pydantic.ValidationError as e:\n",
        "    print(e)"
      ],
      "metadata": {
        "colab": {
          "base_uri": "https://localhost:8080/"
        },
        "id": "Foa9yiZRecfJ",
        "outputId": "93cfebf3-86cb-4d77-d708-20c2e3510d37"
      },
      "execution_count": null,
      "outputs": [
        {
          "output_type": "stream",
          "name": "stdout",
          "text": [
            "items=['Grapes', 'Pears', 'cherries']\n"
          ]
        }
      ]
    },
    {
      "cell_type": "code",
      "source": [
        "# create a 2D list\n",
        "from pydantic import BaseModel\n",
        "from typing import List\n",
        "\n",
        "class CreateMatrix(BaseModel):\n",
        "    grid: List[List[int]] # this accepts nested lists --> list of list"
      ],
      "metadata": {
        "id": "kHqtvjIOei7S"
      },
      "execution_count": null,
      "outputs": []
    },
    {
      "cell_type": "code",
      "source": [
        "try:\n",
        "    matrix = CreateMatrix(grid=[[1, 2, 3],[4, 5, 6]])\n",
        "    print(matrix)\n",
        "except pydantic.ValidationError as e:\n",
        "    print(e)"
      ],
      "metadata": {
        "colab": {
          "base_uri": "https://localhost:8080/"
        },
        "id": "RNw0AD4NgV6I",
        "outputId": "08c29e49-cb8d-4f9c-96bd-5c9aeabff58c"
      },
      "execution_count": null,
      "outputs": [
        {
          "output_type": "stream",
          "name": "stdout",
          "text": [
            "grid=[[1, 2, 3], [4, 5, 6]]\n"
          ]
        }
      ]
    },
    {
      "cell_type": "markdown",
      "source": [
        "### **Note**\n",
        "This nesting can be done with any datastructure within another and pydantic will validte each item according to its type. This also extends to pydantic data models."
      ],
      "metadata": {
        "id": "zqrBupB5hVlj"
      }
    },
    {
      "cell_type": "code",
      "source": [
        "from pydantic import BaseModel\n",
        "from typing import List\n",
        "\n",
        "class Ingredient(BaseModel):\n",
        "    name: str\n",
        "    quantity: float\n",
        "\n",
        "class Recipe(BaseModel):\n",
        "    ingredients: List[Ingredient] # this list takes the above model, it validates each type\n",
        "\n",
        "try:\n",
        "    recipe = Recipe(ingredients=[Ingredient(name=\"salt\", quantity=0.5),\n",
        "                    Ingredient(name=\"Pepper\", quantity=0.7),\n",
        "                    Ingredient(name=\"chicken\", quantity=0.5)])\n",
        "    print(recipe)\n",
        "except pydantic.ValidationError as e:\n",
        "    print(e)"
      ],
      "metadata": {
        "colab": {
          "base_uri": "https://localhost:8080/"
        },
        "id": "SLUl_tdrgfyQ",
        "outputId": "30bb9d0f-28ec-4792-8bf7-40fc03bfefb6"
      },
      "execution_count": null,
      "outputs": [
        {
          "output_type": "stream",
          "name": "stdout",
          "text": [
            "ingredients=[Ingredient(name='salt', quantity=0.5), Ingredient(name='Pepper', quantity=0.7), Ingredient(name='chicken', quantity=0.5)]\n"
          ]
        }
      ]
    },
    {
      "cell_type": "markdown",
      "source": [
        "## **Dictionary and Typed Key-Values**\n",
        "\n",
        "There are two ways to use list or dictionary types while dong type annotations, i.e. `list`(built-in) or `List`(from typing) and for dictinoary `dict` or `Dict`."
      ],
      "metadata": {
        "id": "GSz1KVyJjur0"
      }
    },
    {
      "cell_type": "code",
      "source": [
        "from pydantic import BaseModel, Field\n",
        "from typing import Dict\n",
        "\n",
        "class UserProfiles(BaseModel):\n",
        "    profiles: Dict[str, int] # Dict[<key type>, <value type>]\n",
        "    # profiles: Dict[str, int] = Field(min_items=2) the length of the dictionary can be optimized"
      ],
      "metadata": {
        "id": "52aLBiaYiuI3"
      },
      "execution_count": null,
      "outputs": []
    },
    {
      "cell_type": "code",
      "source": [
        "try:\n",
        "    profile = UserProfiles(profiles={\"tony\": 25, \"stark\": 35})\n",
        "    print(profile)\n",
        "except pydantic.ValidationError as e:\n",
        "    print(e)"
      ],
      "metadata": {
        "colab": {
          "base_uri": "https://localhost:8080/"
        },
        "id": "QqJSwKOsnZ3y",
        "outputId": "4f7f17b1-ab55-4753-9ecb-ee63f9e1cebb"
      },
      "execution_count": null,
      "outputs": [
        {
          "output_type": "stream",
          "name": "stdout",
          "text": [
            "profiles={'tony': 25, 'stark': 35}\n"
          ]
        }
      ]
    },
    {
      "cell_type": "code",
      "source": [
        "# Extending the data model to accept another datastructure\n",
        "\n",
        "from pydantic import BaseModel\n",
        "from typing import Dict\n",
        "\n",
        "class Product(BaseModel):\n",
        "    name: str\n",
        "    price: float\n",
        "\n",
        "class ProductCatalogue(BaseModel):\n",
        "    products: Dict[str, Product]"
      ],
      "metadata": {
        "id": "Z5zgNP96nxAi"
      },
      "execution_count": null,
      "outputs": []
    },
    {
      "cell_type": "code",
      "source": [
        "from pydantic import ValidationError # Import ValidationError\n",
        "\n",
        "try:\n",
        "    catalogue = ProductCatalogue(products={\"p1\": Product(name=\"tea\", price=\"52\"),\n",
        "                                          \"p2\": Product(name=\"coffee\", price=\"22\"),\n",
        "                                          \"p3\": {\"name\": \"sugar\", \"price\": 1.25}})\n",
        "    print(catalogue)\n",
        "except ValidationError as e: # Use ValidationError directly\n",
        "    print(e)"
      ],
      "metadata": {
        "colab": {
          "base_uri": "https://localhost:8080/"
        },
        "id": "YbO6sbM4p1sZ",
        "outputId": "c641de3e-631d-4c7a-cd24-2bc41fbe428d"
      },
      "execution_count": null,
      "outputs": [
        {
          "output_type": "stream",
          "name": "stdout",
          "text": [
            "products={'p1': Product(name='tea', price=52.0), 'p2': Product(name='coffee', price=22.0), 'p3': Product(name='sugar', price=1.25)}\n"
          ]
        }
      ]
    },
    {
      "cell_type": "markdown",
      "source": [
        "Here in above \"catalogue\", p3 is not a validation error instead it is accepte by pydantic.\n",
        "\n",
        "This is because, `products` is a disctionary as it accepts key as string and value as a Product instance. So pydantic will look for items that are able to create Product instance and in this case which is possible."
      ],
      "metadata": {
        "id": "Vpo3865dS7f-"
      }
    },
    {
      "cell_type": "code",
      "source": [
        "# Nesting dictionaries\n",
        "\n",
        "class Order(BaseModel):\n",
        "    product_id: str\n",
        "    quantity: int\n",
        "\n",
        "class OrderBook(BaseModel):\n",
        "    orders: Dict[str, Dict[str, Order]]\n",
        "\n",
        "try:\n",
        "    order_book = OrderBook(orders={\"order_one\": {\"item_one\": Order(product_id=\"i1\", quantity=2)}})\n",
        "    print(order_book)\n",
        "except pydantic.ValidationError as e:\n",
        "    print(e)"
      ],
      "metadata": {
        "id": "63OdQz8sqUsd",
        "colab": {
          "base_uri": "https://localhost:8080/"
        },
        "outputId": "a3d8faf7-04af-4e83-a65e-76bce52f802c"
      },
      "execution_count": null,
      "outputs": [
        {
          "output_type": "stream",
          "name": "stdout",
          "text": [
            "orders={'order_one': {'item_one': Order(product_id='i1', quantity=2)}}\n"
          ]
        }
      ]
    },
    {
      "cell_type": "markdown",
      "source": [
        "## **Sets and Tuples**\n",
        "\n",
        "**`Sets`** are unordered collection of unique elements and **`tuples`** are ordered collections of elements.\n",
        "\n",
        "In sets, the duplicate elements are automatically removed by the set constructor, and pydantic will further ensure each element is of specified type.\n",
        "\n",
        "Sets are also a sized collection so the Field type can be used on sets.\n",
        "\n",
        "Tuples are immutable and fixed length data structures whereas lists are mutable and dynamically sized data structures."
      ],
      "metadata": {
        "id": "1zQbfQx-WxcH"
      }
    },
    {
      "cell_type": "code",
      "source": [
        "set(), tuple() # these are python built-ins"
      ],
      "metadata": {
        "colab": {
          "base_uri": "https://localhost:8080/"
        },
        "id": "oYZc4mhxWH-6",
        "outputId": "0f57969e-b291-4c54-8102-0b748f911de4"
      },
      "execution_count": null,
      "outputs": [
        {
          "output_type": "execute_result",
          "data": {
            "text/plain": [
              "(set(), ())"
            ]
          },
          "metadata": {},
          "execution_count": 9
        }
      ]
    },
    {
      "cell_type": "code",
      "source": [
        "# sets\n",
        "from pydantic import BaseModel, Field, ValidationError\n",
        "from typing import Set\n",
        "\n",
        "class UniqueNumbers(BaseModel):\n",
        "    values: Set[int] = Field(max_items=10, min_items=3)\n",
        "\n",
        "    # class Config:\n",
        "    #     strict = True\n",
        "\n",
        "try:\n",
        "    numbers = UniqueNumbers(values={1, 2, 3, 4, \"4\"}) # if \"strict\" is set, it raises error saying only integers are allowed\n",
        "    print(numbers)\n",
        "except ValidationError as e:\n",
        "    print(e)"
      ],
      "metadata": {
        "colab": {
          "base_uri": "https://localhost:8080/"
        },
        "id": "Ep1NL0fLYOdb",
        "outputId": "645e0bf7-d11c-4455-c188-116ae1928008"
      },
      "execution_count": null,
      "outputs": [
        {
          "output_type": "stream",
          "name": "stdout",
          "text": [
            "values={1, 2, 3, 4}\n"
          ]
        }
      ]
    },
    {
      "cell_type": "code",
      "source": [
        "from typing import Tuple\n",
        "\n",
        "class Coordinates(BaseModel):\n",
        "    coordinates: Tuple[float, float, float] # Tuple[float, ...] --> this means there can be variable number of elements that are float\n",
        "\n",
        "try:\n",
        "    coordinates = Coordinates(coordinates=(1.0, 2.0, 3.0))\n",
        "    print(coordinates)\n",
        "except ValidationError as e:\n",
        "    print(e)"
      ],
      "metadata": {
        "colab": {
          "base_uri": "https://localhost:8080/"
        },
        "id": "vnnZi2NKZ0-t",
        "outputId": "def0f5b2-0118-421c-fbb1-55799cd80b0a"
      },
      "execution_count": null,
      "outputs": [
        {
          "output_type": "stream",
          "name": "stdout",
          "text": [
            "coordinates=(1.0, 2.0, 3.0)\n"
          ]
        }
      ]
    },
    {
      "cell_type": "code",
      "source": [
        "class UserInfo(BaseModel):\n",
        "    details: Tuple[str, int, bool]\n",
        "\n",
        "user_info = UserInfo(details=(\"Tony Stark\", 42, True))\n",
        "print(user_info)"
      ],
      "metadata": {
        "colab": {
          "base_uri": "https://localhost:8080/"
        },
        "id": "QY_AbD6Zbxn2",
        "outputId": "27857336-9cde-4050-be88-76e105c5e591"
      },
      "execution_count": null,
      "outputs": [
        {
          "output_type": "stream",
          "name": "stdout",
          "text": [
            "details=('Tony Stark', 42, True)\n"
          ]
        }
      ]
    },
    {
      "cell_type": "markdown",
      "source": [
        "## **Unions**\n",
        "\n",
        "Unions come in handy when you want an attribute to accept any data type like it can be string, integer, floating point value, list etc."
      ],
      "metadata": {
        "id": "ASthfNEClHCq"
      }
    },
    {
      "cell_type": "code",
      "source": [
        "from typing import Union # union allows to take mix of data types\n",
        "\n",
        "class Car(BaseModel):\n",
        "    name: str\n",
        "    model: str\n",
        "    seat_count: int\n",
        "\n",
        "class Bike(BaseModel):\n",
        "    name: str\n",
        "    model: str\n",
        "    has_sidecar: bool\n",
        "\n",
        "class Truck(BaseModel):\n",
        "    name: str\n",
        "    model: str\n",
        "    payload_capacity: float\n",
        "\n",
        "class Vehicle(BaseModel):\n",
        "    owner: str\n",
        "    vehicle_details: Union[Car, Bike, Truck] # here the owner can for any of the above classes\n",
        "\n",
        "vehicle = Vehicle(owner=\"Bruce Wayne\", vehicle_details=Truck(name=\"optimus prime\", model=\"V1\", payload_capacity=100000))\n",
        "print(vehicle)"
      ],
      "metadata": {
        "colab": {
          "base_uri": "https://localhost:8080/"
        },
        "id": "UvEP6efKkz35",
        "outputId": "1485be2b-3bed-452d-a970-0098d460b529"
      },
      "execution_count": null,
      "outputs": [
        {
          "output_type": "stream",
          "name": "stdout",
          "text": [
            "owner='Bruce Wayne' vehicle_details=Truck(name='optimus prime', model='V1', payload_capacity=100000.0)\n"
          ]
        }
      ]
    },
    {
      "cell_type": "code",
      "source": [
        "# In the above classes, \"name\" and \"model\" are repeated. so define a base class for it and inherit as below\n",
        "\n",
        "class VehicleBase(BaseModel):\n",
        "    name: str\n",
        "    model: str\n",
        "\n",
        "class Car(VehicleBase):\n",
        "    seat_count: int\n",
        "\n",
        "class Bike(VehicleBase):\n",
        "    has_sidecar: bool\n",
        "\n",
        "class Truck(VehicleBase):\n",
        "    payload_capacity: float\n",
        "\n",
        "class Vehicle(BaseModel):\n",
        "    owner: str\n",
        "    vehicle_details: Union[Car, Bike, Truck] # here the owner can for any of the above classes\n",
        "\n",
        "vehicle = Vehicle(owner=\"Bruce Wayne\", vehicle_details=Bike(name=\"Duke\", model=\"V1\", has_sidecar=False))\n",
        "print(vehicle)"
      ],
      "metadata": {
        "colab": {
          "base_uri": "https://localhost:8080/"
        },
        "id": "058_euBoofP-",
        "outputId": "821de9b3-c73d-4f48-a2e9-efa1402c232d"
      },
      "execution_count": null,
      "outputs": [
        {
          "output_type": "stream",
          "name": "stdout",
          "text": [
            "owner='Bruce Wayne' vehicle_details=Bike(name='Duke', model='V1', has_sidecar=False)\n"
          ]
        }
      ]
    },
    {
      "cell_type": "markdown",
      "source": [
        "## **Optional, Any and Default**\n",
        "\n",
        "Until now, all the attributes that are specified are must requiried onces whole giving the input data to a data model otherwise a validation error is raised.\n",
        "\n",
        "There are cases where attribute can be optional, that it may or may not be requried as input or it can be set to none."
      ],
      "metadata": {
        "id": "GbjZU-ueweM7"
      }
    },
    {
      "cell_type": "code",
      "source": [
        "from pydantic import BaseModel, StrictInt\n",
        "from typing import Optional\n",
        "from datetime import date\n",
        "\n",
        "class User(BaseModel):\n",
        "    name: str = Field(max_length=50, min_length=5)\n",
        "    age: StrictInt\n",
        "    Dob: Optional[date] = None\n",
        "\n",
        "user_1 = User(name=\"tony stark\", age=15)\n",
        "print(user_1)\n",
        "print(user_1.age)"
      ],
      "metadata": {
        "colab": {
          "base_uri": "https://localhost:8080/"
        },
        "id": "sAjlCLu5nsbI",
        "outputId": "ef39ce51-638e-4191-ae64-16bd438ef7de"
      },
      "execution_count": null,
      "outputs": [
        {
          "output_type": "stream",
          "name": "stdout",
          "text": [
            "name='tony stark' age=15 Dob=None\n",
            "15\n"
          ]
        }
      ]
    },
    {
      "cell_type": "code",
      "source": [
        "from pydantic import BaseModel, StrictInt\n",
        "from typing import Optional, Any\n",
        "\n",
        "class User(BaseModel):\n",
        "    name: str = Field(max_length=50, min_length=5)\n",
        "    age: int = 25 # Specifying a default value if not given during input\n",
        "    power: Optional[str] = \"Iron\"\n",
        "    street: Any = \"10 street, Adugodi\" # This can be of any datatype, and this is not type checked\n",
        "\n",
        "try:\n",
        "    iron_man = User(name=\"Tony Stark\")\n",
        "    print(iron_man)\n",
        "except pydantic.ValidationError as e:\n",
        "    print(e)"
      ],
      "metadata": {
        "colab": {
          "base_uri": "https://localhost:8080/"
        },
        "id": "TlPpSq1EynIm",
        "outputId": "987e81f0-50ad-4b6b-fd36-f0ca7bbad2e1"
      },
      "execution_count": null,
      "outputs": [
        {
          "output_type": "stream",
          "name": "stdout",
          "text": [
            "name='Tony Stark' age=25 power='Iron' street='10 street, Adugodi'\n"
          ]
        }
      ]
    },
    {
      "cell_type": "markdown",
      "source": [
        "## **UUIDs and Default Factories**\n",
        "\n",
        "UUIDs: Universally Unique Ids, ensures the uniqueness of objects across various systems and databases.\n",
        "\n",
        "Default Factories: These are used when the input needs to be generated during runtime."
      ],
      "metadata": {
        "id": "veEYrzde8X8g"
      }
    },
    {
      "cell_type": "code",
      "source": [
        "import uuid\n",
        "print(uuid.uuid4()) # 128-bit integer represented as string of hexa-decimal digits"
      ],
      "metadata": {
        "colab": {
          "base_uri": "https://localhost:8080/"
        },
        "id": "iLDn8PYuz6Zq",
        "outputId": "7308e280-f410-4ede-c6c4-385fd932aeae"
      },
      "execution_count": null,
      "outputs": [
        {
          "output_type": "stream",
          "name": "stdout",
          "text": [
            "e4829539-c4e7-4c8a-ba95-c85257a9085f\n"
          ]
        }
      ]
    },
    {
      "cell_type": "code",
      "source": [
        "class User(BaseModel):\n",
        "    id: uuid.UUID\n",
        "    name: str\n",
        "\n",
        "try:\n",
        "    user_info = User(id=uuid.uuid4(), name=\"Hulk\")\n",
        "    print(user_info)\n",
        "except pydantic.ValidationError as e:\n",
        "    print(e)"
      ],
      "metadata": {
        "colab": {
          "base_uri": "https://localhost:8080/"
        },
        "id": "uXuuxK_387iH",
        "outputId": "27fed2fd-cf99-4976-ad6b-72f30dbae950"
      },
      "execution_count": null,
      "outputs": [
        {
          "output_type": "stream",
          "name": "stdout",
          "text": [
            "id=UUID('d06aa045-abf4-4163-a2c5-43703c12dc7e') name='Hulk'\n"
          ]
        }
      ]
    },
    {
      "cell_type": "code",
      "source": [
        "# Using Default Factories\n",
        "from pydantic import Field\n",
        "class User(BaseModel):\n",
        "    id: uuid.UUID = Field(default_factory=lambda: uuid.uuid4()) # here lambda has no arguments, it just calls the funciton\n",
        "    # id: uuid.UUID = Field(default_factory=uuid.uuid4) This can be used\n",
        "    name: str\n",
        "\n",
        "try:\n",
        "    user_info = User(name=\"Hulk\")\n",
        "    print(user_info)\n",
        "except pydantic.ValidationError as e:\n",
        "    print(e)"
      ],
      "metadata": {
        "colab": {
          "base_uri": "https://localhost:8080/"
        },
        "id": "tbpOf0bn-FtU",
        "outputId": "025ae9f7-f3c2-4fce-9ac3-4f412b1f023c"
      },
      "execution_count": null,
      "outputs": [
        {
          "output_type": "stream",
          "name": "stdout",
          "text": [
            "id=UUID('1a880313-c9ed-429d-9622-620897a6e330') name='Hulk'\n"
          ]
        }
      ]
    },
    {
      "cell_type": "markdown",
      "source": [
        "## **Immutable Attributes**\n",
        "\n",
        "One cannot change the immutable types once they are instantiated.\n",
        "\n",
        "In python, immutable types include numbers, strings, tuples and frozen sets.\n",
        "\n",
        "Mutable types include lists, dictionaries and sets.\n",
        "\n",
        "Immutable objects has several characterstics:\n",
        "- **Contribute to data integrity**: immutable attributes prevent accidental and unauthorized modifications, ensuring data consistency.\n",
        "- **Predictable**: applications that rely or need a lot of complex state management, become instantly simpler to architect.\n",
        "- **Conurrency safety**: in concurrent programming, while creating objects, once created cannot be reset."
      ],
      "metadata": {
        "id": "3tNC1ieTAeYb"
      }
    },
    {
      "cell_type": "code",
      "source": [
        "# Model Level immutability\n",
        "\n",
        "class User(BaseModel):\n",
        "    name: str\n",
        "    age: int\n",
        "\n",
        "try:\n",
        "    user = User(name=\"Tony\", age=25) # here the name is Tony\n",
        "    user.name = \"stark\" # here the name is modified\n",
        "    print(user)\n",
        "except pydantic.ValidationError as e:\n",
        "    print(e)"
      ],
      "metadata": {
        "colab": {
          "base_uri": "https://localhost:8080/"
        },
        "id": "muiWPwlP_KvM",
        "outputId": "d5cecb6e-b214-4513-9707-f650e66a61a5"
      },
      "execution_count": null,
      "outputs": [
        {
          "output_type": "stream",
          "name": "stdout",
          "text": [
            "name='stark' age=25\n"
          ]
        }
      ]
    },
    {
      "cell_type": "markdown",
      "source": [
        "Here the name of a person is updated, where in real scenarios that should not happen.\n",
        "\n",
        "This can be prevented by making certain attributes immutable.\n",
        "\n",
        "To make all the attributes immutable, use a Config class which deals with the model level."
      ],
      "metadata": {
        "id": "HA26WMZpEwDO"
      }
    },
    {
      "cell_type": "code",
      "source": [
        "class User(BaseModel):\n",
        "    name: str\n",
        "    age: int\n",
        "\n",
        "    class Config: # it applies to model level\n",
        "        frozen=True # all attributes in the model are frozen\n",
        "\n",
        "try:\n",
        "    user = User(name=\"Tony\", age=25) # here the name is Tony\n",
        "    user.name = \"stark\" # cannot be modified, as the instances is frozen\n",
        "    print(user)\n",
        "except ValidationError as e:\n",
        "    print(e)\n",
        "\n",
        "# Once instantiated, the attributes cannot be repointed"
      ],
      "metadata": {
        "colab": {
          "base_uri": "https://localhost:8080/"
        },
        "id": "J80ZSCf4EQGu",
        "outputId": "e99f0ccb-4e9d-4805-fc88-959177a03796"
      },
      "execution_count": null,
      "outputs": [
        {
          "output_type": "stream",
          "name": "stdout",
          "text": [
            "1 validation error for User\n",
            "name\n",
            "  Instance is frozen [type=frozen_instance, input_value='stark', input_type=str]\n",
            "    For further information visit https://errors.pydantic.dev/2.11/v/frozen_instance\n"
          ]
        }
      ]
    },
    {
      "cell_type": "code",
      "source": [
        "# Alternative way\n",
        "from pydantic import ConfigDict # this is passed to model level configuration, instead of declaring seperate class inside model\n",
        "\n",
        "class User(BaseModel):\n",
        "    model_config: ConfigDict = {\"frozen\": True}\n",
        "\n",
        "    name: str\n",
        "    age: int\n",
        "\n",
        "try:\n",
        "    user = User(name=\"Tony\", age=25) # here the name is Tony\n",
        "    user.name = \"stark\" # cannot be modified, as the instances is frozen\n",
        "    print(user)\n",
        "except ValidationError as e:\n",
        "    print(e)"
      ],
      "metadata": {
        "colab": {
          "base_uri": "https://localhost:8080/"
        },
        "id": "WNGNoVDLFTE1",
        "outputId": "3668bd87-5552-4f1b-e791-d45772d988c9"
      },
      "execution_count": null,
      "outputs": [
        {
          "output_type": "stream",
          "name": "stdout",
          "text": [
            "1 validation error for User\n",
            "name\n",
            "  Instance is frozen [type=frozen_instance, input_value='stark', input_type=str]\n",
            "    For further information visit https://errors.pydantic.dev/2.11/v/frozen_instance\n"
          ]
        }
      ]
    },
    {
      "cell_type": "code",
      "source": [
        "# Attribute level immutability\n",
        "\n",
        "class User(BaseModel):\n",
        "    name: str\n",
        "    age: int = Field(frozen=True)\n",
        "\n",
        "try:\n",
        "    user = User(name=\"Tony\", age=25) # here the name is Tony\n",
        "    user.age = 19 # cannot be modified, as the instances is frozen\n",
        "    print(user)\n",
        "except ValidationError as e:\n",
        "    print(e)"
      ],
      "metadata": {
        "colab": {
          "base_uri": "https://localhost:8080/"
        },
        "id": "p9vPM6KvGWST",
        "outputId": "a1c4714e-dbf6-4eba-8019-6595541e496c"
      },
      "execution_count": null,
      "outputs": [
        {
          "output_type": "stream",
          "name": "stdout",
          "text": [
            "1 validation error for User\n",
            "age\n",
            "  Field is frozen [type=frozen_field, input_value=19, input_type=int]\n",
            "    For further information visit https://errors.pydantic.dev/2.11/v/frozen_field\n"
          ]
        }
      ]
    },
    {
      "cell_type": "markdown",
      "source": [
        "### Note\n",
        "There is wierd behaviour noticed while creating instances fo classes. Even if the arrtibuites are not present and if we introduce a new attribute while creating object, then pydantic is not throwing error.\n",
        "\n",
        "```\n",
        "class User(BaseModel):\n",
        "    name: str\n",
        "    age: int = Field(frozen=True)\n",
        "\n",
        "try:\n",
        "    user = User(name=\"Tony\", age=25, has_covid=False)\n",
        "    print(user)\n",
        "except ValidationError as e:\n",
        "    print(e)\n",
        "```\n",
        "\n",
        "In the above instantiation, it will not throw error instead it ignores generate output."
      ],
      "metadata": {
        "id": "ilRH5Nq7KTUi"
      }
    },
    {
      "cell_type": "code",
      "source": [
        "class User(BaseModel):\n",
        "    name: str\n",
        "    age: int = Field(frozen=True)\n",
        "\n",
        "try:\n",
        "    user = User(name=\"Tony\", age=25, has_covid=False)\n",
        "    print(user)\n",
        "except ValidationError as e:\n",
        "    print(e)"
      ],
      "metadata": {
        "colab": {
          "base_uri": "https://localhost:8080/"
        },
        "id": "UXwzklY7G8wG",
        "outputId": "67d7dd81-b46b-4211-9c8b-6ad7e2cfd964"
      },
      "execution_count": null,
      "outputs": [
        {
          "output_type": "stream",
          "name": "stdout",
          "text": [
            "name='Tony' age=25\n"
          ]
        }
      ]
    },
    {
      "cell_type": "markdown",
      "source": [
        "This is becuase, pydantics aim is to create an instance that meets the model specification, and in the above case creating one more attribute does not affect the model creation.\n",
        "\n",
        "But there comes situation where we needs to be sensitive to such additional attributes in the input data that are being passed during instantiation.\n",
        "\n",
        "This can be done by model config itself."
      ],
      "metadata": {
        "id": "snhC3kE6LJ1K"
      }
    },
    {
      "cell_type": "code",
      "source": [
        "class User(BaseModel):\n",
        "    id: uuid.UUID = Field(frozen=True, default_factory=uuid.uuid4)\n",
        "    name: str\n",
        "\n",
        "    class Config:\n",
        "        # extra = \"ignore\"--> by default its ignore, pydantic will not raise errors when the additional attributes are give at time of input\n",
        "        # extra = \"forbid\" # extra attributes are forbidden\n",
        "          extra = \"allow\" # --> This will allow the attributes to be generated at runtime without raising errors\n",
        "\n",
        "try:\n",
        "    user = User(name=\"Tony\", has_covid=False)\n",
        "    print(user)\n",
        "except ValidationError as e:\n",
        "    print(e)"
      ],
      "metadata": {
        "colab": {
          "base_uri": "https://localhost:8080/"
        },
        "id": "9RLlxyglK7-S",
        "outputId": "7f1e2602-9e6a-4589-d5c4-550c44fa4e2b"
      },
      "execution_count": null,
      "outputs": [
        {
          "output_type": "stream",
          "name": "stdout",
          "text": [
            "id=UUID('1e629c81-ef01-40e0-85bc-17380c5475d3') name='Tony' has_covid=False\n"
          ]
        }
      ]
    },
    {
      "cell_type": "markdown",
      "source": [
        "## **Enumaraitons (enums)**\n",
        "\n",
        "- These are set of named constants.\n",
        "- If we have a field that we want to take one of the several values, it is defined as an enum.\n",
        "- defined in python as enum.Enum"
      ],
      "metadata": {
        "id": "-PZDQVaTO2nX"
      }
    },
    {
      "cell_type": "code",
      "source": [
        "from enum import Enum\n",
        "\n",
        "class Color(Enum):\n",
        "    RED = 'red'\n",
        "    GREEN = 'green'\n",
        "    BLUE = 'blue'\n",
        "\n",
        "# to use the abovein pydantic, use it as type annotation\n",
        "\n",
        "class Item(BaseModel):\n",
        "    name: str\n",
        "    color: Color\n",
        "\n",
        "try:\n",
        "    colors = Item(name=\"chair\", color=\"red\")\n",
        "    print(colors)\n",
        "except ValidationError as e:\n",
        "    print(e)"
      ],
      "metadata": {
        "colab": {
          "base_uri": "https://localhost:8080/"
        },
        "id": "VgNP8sRlMDK4",
        "outputId": "274de5b4-bdc0-4486-ff4b-e1e6004656ae"
      },
      "execution_count": null,
      "outputs": [
        {
          "output_type": "stream",
          "name": "stdout",
          "text": [
            "name='chair' color=<Color.RED: 'red'>\n"
          ]
        }
      ]
    },
    {
      "cell_type": "markdown",
      "source": [
        "- Enums make the code more readable and self explanatory where all the values are encapsulated and then they are referenced."
      ],
      "metadata": {
        "id": "RRTzf2p-aj-t"
      }
    },
    {
      "cell_type": "markdown",
      "source": [
        "## **Literals (For Better Performance)**\n",
        "\n",
        "- This is invoked from typing module\n",
        "- This is special annotation that allows to specify a literal value, which means a value that is not a variable or an expression, but rather a concrete value.\n",
        "- Literals are alternative to Enums."
      ],
      "metadata": {
        "id": "5jd8igKEbM6v"
      }
    },
    {
      "cell_type": "code",
      "source": [
        "from typing import Literal\n",
        "\n",
        "Literal[\"red\", \"blue\"]"
      ],
      "metadata": {
        "colab": {
          "base_uri": "https://localhost:8080/"
        },
        "id": "i9S85muuaWv9",
        "outputId": "012daff4-b4c2-4410-ee42-0dae959ad922"
      },
      "execution_count": null,
      "outputs": [
        {
          "output_type": "execute_result",
          "data": {
            "text/plain": [
              "typing.Literal['red', 'blue']"
            ]
          },
          "metadata": {},
          "execution_count": 52
        }
      ]
    },
    {
      "cell_type": "code",
      "source": [
        "from os import strerror\n",
        "class Color(Enum):\n",
        "    RED = 'red'\n",
        "    GREEN = 'green'\n",
        "    BLUE = 'blue'\n",
        "\n",
        "class ItemWithEnum(BaseModel):\n",
        "    name: str\n",
        "    color: Color\n",
        "\n",
        "class ItemWithLiteral(BaseModel):\n",
        "    name: str\n",
        "    color: Literal['red', 'green', 'blue']\n",
        "\n",
        "try:\n",
        "    colors_literal = ItemWithLiteral(name=\"chair\", color=\"red\")\n",
        "    colors_enum = ItemWithEnum(name=\"table\", color=\"blue\")\n",
        "    print(colors_literal)\n",
        "    print(colors_enum)\n",
        "except ValidationError as e:\n",
        "    print(e)"
      ],
      "metadata": {
        "colab": {
          "base_uri": "https://localhost:8080/"
        },
        "id": "8hI1mCSibx8A",
        "outputId": "7a02ae54-4e82-40e1-9075-42dc3f1559dc"
      },
      "execution_count": null,
      "outputs": [
        {
          "output_type": "stream",
          "name": "stdout",
          "text": [
            "name='chair' color='red'\n",
            "name='table' color=<Color.BLUE: 'blue'>\n"
          ]
        }
      ]
    },
    {
      "cell_type": "markdown",
      "source": [
        "Use Literal types instead of enums for better and faster performance"
      ],
      "metadata": {
        "id": "ywEeYWjbdgbS"
      }
    },
    {
      "cell_type": "markdown",
      "source": [
        "# **Custom Validators**\n",
        "\n",
        "As of now the above all the validations are about `type annotations` and `keyword argument validations(in Field)`, which are limited in their approach and even keyword args validations there are very less amount of keywords that can be specified in field(like gt, ge, lt, le, lax_length etc).\n",
        "\n",
        "When it comes fo specifying more complex validaiton logic that is not supported by the above 2 approaches, For example `Ensure that the users age is above 18 , but also an even number`. Here custom validators are handy.\n",
        "\n",
        "Custom validators allows us to express validaiton logic through the use of functions that we define that are infinetly versatile."
      ],
      "metadata": {
        "id": "0_-tnaYIdo8F"
      }
    },
    {
      "cell_type": "markdown",
      "source": [
        "### **Customizing Field validators**"
      ],
      "metadata": {
        "id": "ULRZwHxfSU0d"
      }
    },
    {
      "cell_type": "code",
      "source": [
        "from pydantic import BaseModel, Field, field_validator # this is used as decorator\n",
        "\n",
        "class User(BaseModel):\n",
        "    name: str\n",
        "    age: int = Field(gt=0)\n",
        "\n",
        "    # this validation is done after type checking and instatiation\n",
        "\n",
        "    @field_validator(\"age\") # \"field_validator\" is a paramaterized decorator that takes the filed needs to be validated\n",
        "    @classmethod\n",
        "    def validate_age(cls, v):\n",
        "        if v < 18 or v%2 != 0:\n",
        "            raise ValueError(\"Age must be even or atleast 18!!!\")\n",
        "        return v"
      ],
      "metadata": {
        "id": "GYQkzm5-chf_"
      },
      "execution_count": null,
      "outputs": []
    },
    {
      "cell_type": "code",
      "source": [
        "user = User(name=\"Thanos\", age=-20) # field validator kicks in\n"
      ],
      "metadata": {
        "collapsed": true,
        "id": "9i5TNBBeXXsa"
      },
      "execution_count": null,
      "outputs": []
    },
    {
      "cell_type": "code",
      "source": [
        "user = User(name=\"Thanos\", age=16) # custom validator (after type checking and field validation)"
      ],
      "metadata": {
        "id": "QDxBNH-UXeOf"
      },
      "execution_count": null,
      "outputs": []
    },
    {
      "cell_type": "markdown",
      "source": [
        "### **Model-Level Validators**\n",
        "\n",
        "Similar to Field validator but this is applied at model level rather than specific fields.\n",
        "\n",
        "Often we need to express validation logic that jointly depends on number of attributes in the data model.\n",
        "\n",
        "`@model_validator(mode=\"<mode>\")` here mode can be \"before\" or \"after\".\n",
        "\n",
        "- **before**: means this validator is called before the model is instantiated. This is more powerful kind because they allow to gain control over the data that is passed to the model constructor.\n",
        "-**after**: can be used to make sure that the remaining filed are getting validated like type checks and filed validations then goes for the model validation."
      ],
      "metadata": {
        "id": "_Fb51W6vY-zf"
      }
    },
    {
      "cell_type": "code",
      "source": [
        "from datetime import date\n",
        "from pydantic import BaseModel, ValidationError, model_validator\n",
        "\n",
        "class ScheduledCourse(BaseModel):\n",
        "    department: str\n",
        "    course_num: int\n",
        "    start_date: date\n",
        "    end_date: date\n",
        "\n",
        "    @model_validator(mode=\"before\") # mode is a mandatory argument\n",
        "    # it means these are called before model is instantiated\n",
        "    @classmethod\n",
        "    def validate_dates(cls, data: dict): # everytime the data will be a dictionary while data is passed. It is in form of key-value pairs\n",
        "        if data[\"start_date\"] > data[\"end_date\"]:\n",
        "            raise ValueError(\"check the dates once and have some common sense :(\")\n",
        "        return data\n",
        "\n",
        "try:\n",
        "    course = ScheduledCourse(start_date=\"2025-01-01\", end_date=\"2024-01-01\")\n",
        "    print(course)\n",
        "except ValidationError as e:\n",
        "    print(e)"
      ],
      "metadata": {
        "colab": {
          "base_uri": "https://localhost:8080/"
        },
        "id": "z_LULziGYiBL",
        "outputId": "f8afa35d-ba1c-4645-8d02-064ad33ba7c4"
      },
      "execution_count": null,
      "outputs": [
        {
          "output_type": "stream",
          "name": "stdout",
          "text": [
            "1 validation error for ScheduledCourse\n",
            "  Value error, check the dates once and have some common sense :( [type=value_error, input_value={'start_date': '2025-01-0...end_date': '2024-01-01'}, input_type=dict]\n",
            "    For further information visit https://errors.pydantic.dev/2.11/v/value_error\n"
          ]
        }
      ]
    },
    {
      "cell_type": "code",
      "source": [
        "from datetime import date\n",
        "from pydantic import BaseModel, ValidationError, model_validator\n",
        "\n",
        "class ScheduledCourse(BaseModel):\n",
        "    department: str\n",
        "    course_num: int\n",
        "    start_date: date\n",
        "    end_date: date\n",
        "\n",
        "    @model_validator(mode=\"after\")\n",
        "    # this becomes a instance method rather than cls method as the model gets instantiated\n",
        "    def validate_dates(self): # this is self as the model gets instantiated 1st\n",
        "        if self.start_date > self.end_date:\n",
        "            raise ValueError(\"check the dates once and have some common sense :(\")\n",
        "        return self\n",
        "\n",
        "try:\n",
        "    course = ScheduledCourse(start_date=\"2024-01-01\", end_date=\"2025-01-01\")\n",
        "    print(course)\n",
        "except ValidationError as e:\n",
        "    print(e)"
      ],
      "metadata": {
        "colab": {
          "base_uri": "https://localhost:8080/"
        },
        "id": "EDvmk49aeQGp",
        "outputId": "1ed7a70f-5cec-4ff7-c4d0-d1243d8f1960"
      },
      "execution_count": null,
      "outputs": [
        {
          "output_type": "stream",
          "name": "stdout",
          "text": [
            "2 validation errors for ScheduledCourse\n",
            "department\n",
            "  Field required [type=missing, input_value={'start_date': '2024-01-0...end_date': '2025-01-01'}, input_type=dict]\n",
            "    For further information visit https://errors.pydantic.dev/2.11/v/missing\n",
            "course_num\n",
            "  Field required [type=missing, input_value={'start_date': '2024-01-0...end_date': '2025-01-01'}, input_type=dict]\n",
            "    For further information visit https://errors.pydantic.dev/2.11/v/missing\n"
          ]
        }
      ]
    },
    {
      "cell_type": "markdown",
      "source": [
        "`after` mode kicks in only after the model is successfully instantiated. In the above case the instance of \"ScheduledCourse\" cannot be created because the two requried fields are missing."
      ],
      "metadata": {
        "id": "trVLEczGsim0"
      }
    },
    {
      "cell_type": "markdown",
      "source": [
        "# **Model Serialization and Deserialization**\n",
        "\n",
        "Process of converting an object into a format that can be easily stored or transmitted.\n",
        "\n",
        "When data needs to be send from webserver to a client or vice-versa or store the data in a text based storage system like database or a file, in all these cases we need to convert python objects into a format that is more universally usable and can be manipulated by other targets. For this typically **`JSON`** is used, and alternatives are XML, CSV etc.\n",
        "\n",
        "The most serialization formats are `json` and `dict`.\n",
        "\n",
        "Quick difference between JSON and dict\n",
        "\n",
        "|JSON |dict|\n",
        "|-----|-----|\n",
        "|uses double quotes| uses single quotes for key-value pairs|\n",
        "|return null for empty things|returns none for empty values|\n",
        "|booleans are in lower case| booleans are capitalized|"
      ],
      "metadata": {
        "id": "oZZLjzW4aQFU"
      }
    },
    {
      "cell_type": "markdown",
      "source": [
        "## **Instance Serialization to  Dict and Json**\n",
        "\n"
      ],
      "metadata": {
        "id": "CwbNzd5BfMe9"
      }
    },
    {
      "cell_type": "code",
      "source": [
        "try:\n",
        "    course = ScheduledCourse(department='Physics',course_num='7',start_date=\"2024-01-01\", end_date=\"2025-01-01\")\n",
        "    print(course)\n",
        "except ValidationError as e:\n",
        "    print(e)"
      ],
      "metadata": {
        "colab": {
          "base_uri": "https://localhost:8080/"
        },
        "id": "S0bf7vE7sQFg",
        "outputId": "c5465b22-3bac-4d77-8398-35bef067887d"
      },
      "execution_count": null,
      "outputs": [
        {
          "output_type": "stream",
          "name": "stdout",
          "text": [
            "department='Physics' course_num=7 start_date=datetime.date(2024, 1, 1) end_date=datetime.date(2025, 1, 1)\n"
          ]
        }
      ]
    },
    {
      "cell_type": "code",
      "source": [
        "# to convert the above pydantic model into a dictionary, this is called \"model dump method\"\n",
        "course.model_dump()"
      ],
      "metadata": {
        "colab": {
          "base_uri": "https://localhost:8080/"
        },
        "id": "b4S3zgS8cV74",
        "outputId": "efb12ba2-fe0b-42ef-8fb3-8e17481d3700"
      },
      "execution_count": null,
      "outputs": [
        {
          "output_type": "execute_result",
          "data": {
            "text/plain": [
              "{'department': 'Physics',\n",
              " 'course_num': 7,\n",
              " 'start_date': datetime.date(2024, 1, 1),\n",
              " 'end_date': datetime.date(2025, 1, 1)}"
            ]
          },
          "metadata": {},
          "execution_count": 9
        }
      ]
    },
    {
      "cell_type": "code",
      "source": [
        "# to convert pydantic model into json string, \"model dump json\"\n",
        "course.model_dump_json()"
      ],
      "metadata": {
        "colab": {
          "base_uri": "https://localhost:8080/",
          "height": 36
        },
        "id": "ZFSVg7FOcsMP",
        "outputId": "404ae6ae-f6c7-4a8c-cbd7-5fb9553cc492"
      },
      "execution_count": null,
      "outputs": [
        {
          "output_type": "execute_result",
          "data": {
            "text/plain": [
              "'{\"department\":\"Physics\",\"course_num\":7,\"start_date\":\"2024-01-01\",\"end_date\":\"2025-01-01\"}'"
            ],
            "application/vnd.google.colaboratory.intrinsic+json": {
              "type": "string"
            }
          },
          "metadata": {},
          "execution_count": 10
        }
      ]
    },
    {
      "cell_type": "markdown",
      "source": [
        "## **Field Exclusions**\n",
        "\n",
        "Instead of serializing the whole model, there is a way to serialize only a subset of its attributes.\n",
        "\n",
        "Pydantic allows to have control over serialization process through the use of `exclude` and `include` keyword arguments in the model/model dump json."
      ],
      "metadata": {
        "id": "uQ7Xw3DVfVOb"
      }
    },
    {
      "cell_type": "code",
      "source": [
        "# excuding certian attributes in model dumo json method\n",
        "course.model_dump_json(exclude={\"department\",\"course_num\"}) # negative exlusion criteria"
      ],
      "metadata": {
        "colab": {
          "base_uri": "https://localhost:8080/",
          "height": 36
        },
        "id": "0z57MiRBdaOJ",
        "outputId": "b45113a0-332e-4e7f-c99a-b3336e79e701"
      },
      "execution_count": null,
      "outputs": [
        {
          "output_type": "execute_result",
          "data": {
            "text/plain": [
              "'{\"start_date\":\"2024-01-01\",\"end_date\":\"2025-01-01\"}'"
            ],
            "application/vnd.google.colaboratory.intrinsic+json": {
              "type": "string"
            }
          },
          "metadata": {},
          "execution_count": 11
        }
      ]
    },
    {
      "cell_type": "code",
      "source": [
        "# include certain attributes to be serialized\n",
        "course.model_dump_json(include={\"department\", \"start_date\"})"
      ],
      "metadata": {
        "colab": {
          "base_uri": "https://localhost:8080/",
          "height": 36
        },
        "id": "hd0Q42NJgXmh",
        "outputId": "d58ace8c-ea2b-4e1b-8929-0de832a9d2c0"
      },
      "execution_count": null,
      "outputs": [
        {
          "output_type": "execute_result",
          "data": {
            "text/plain": [
              "'{\"department\":\"Physics\",\"start_date\":\"2024-01-01\"}'"
            ],
            "application/vnd.google.colaboratory.intrinsic+json": {
              "type": "string"
            }
          },
          "metadata": {},
          "execution_count": 12
        }
      ]
    },
    {
      "cell_type": "markdown",
      "source": [
        "There is a way to exclude the values that are not set or the values that are default.\n",
        "\n",
        "- **exclude_unset**: The attributes that have default values are excluded if they are not specified at the instantiation.\n",
        "- **exclude_defaults**: Even though the values are instantiated to their defaults the attributes are excluded."
      ],
      "metadata": {
        "id": "7vByt7b0hpWk"
      }
    },
    {
      "cell_type": "code",
      "source": [
        "from datetime import date\n",
        "from pydantic import BaseModel, ValidationError, model_validator\n",
        "from typing import Optional\n",
        "\n",
        "class ScheduledCourse(BaseModel):\n",
        "    department: str = \"?\"\n",
        "    course_num: Optional[int] = None\n",
        "    start_date: date\n",
        "    end_date: date\n",
        "\n",
        "    @model_validator(mode=\"after\")\n",
        "    # this becomes a instance method rather than cls method as the model gets instantiated\n",
        "    def validate_dates(self): # this is self as the model gets instantiated 1st\n",
        "        if self.start_date > self.end_date:\n",
        "            raise ValueError(\"check the dates once and have some common sense :(\")\n",
        "        return self\n",
        "\n",
        "course = ScheduledCourse(start_date=\"2024-01-01\", end_date=\"2025-01-01\")\n",
        "course.model_dump_json(exclude_unset=True) # the attributes that are not set are excluded"
      ],
      "metadata": {
        "colab": {
          "base_uri": "https://localhost:8080/",
          "height": 36
        },
        "id": "n3myV9yThEah",
        "outputId": "4bea77d2-a689-47db-c573-9590f338a075"
      },
      "execution_count": null,
      "outputs": [
        {
          "output_type": "execute_result",
          "data": {
            "text/plain": [
              "'{\"start_date\":\"2024-01-01\",\"end_date\":\"2025-01-01\"}'"
            ],
            "application/vnd.google.colaboratory.intrinsic+json": {
              "type": "string"
            }
          },
          "metadata": {},
          "execution_count": 18
        }
      ]
    },
    {
      "cell_type": "code",
      "source": [
        "course = ScheduledCourse(department=\"?\", start_date=\"2024-01-01\", end_date=\"2025-01-01\")\n",
        "course.model_dump_json(exclude_defaults=True) # here the defaults are excluded even though default value is instantiated.\n",
        "# but if the default value is updated while instantiation, then it is reflected in json as below"
      ],
      "metadata": {
        "colab": {
          "base_uri": "https://localhost:8080/",
          "height": 36
        },
        "id": "B_yX6afjiY1A",
        "outputId": "fc911666-2b61-41b6-ee0f-749f8fb8ef29"
      },
      "execution_count": null,
      "outputs": [
        {
          "output_type": "execute_result",
          "data": {
            "text/plain": [
              "'{\"start_date\":\"2024-01-01\",\"end_date\":\"2025-01-01\"}'"
            ],
            "application/vnd.google.colaboratory.intrinsic+json": {
              "type": "string"
            }
          },
          "metadata": {},
          "execution_count": 21
        }
      ]
    },
    {
      "cell_type": "code",
      "source": [
        "course = ScheduledCourse(department=\"physics\", start_date=\"2024-01-01\", end_date=\"2025-01-01\")\n",
        "course.model_dump_json(exclude_defaults=True)"
      ],
      "metadata": {
        "colab": {
          "base_uri": "https://localhost:8080/",
          "height": 36
        },
        "id": "-TZ_3_0Ui83p",
        "outputId": "4b1e406f-5c39-42aa-97c2-fa3cca6da5f3"
      },
      "execution_count": null,
      "outputs": [
        {
          "output_type": "execute_result",
          "data": {
            "text/plain": [
              "'{\"department\":\"physics\",\"start_date\":\"2024-01-01\",\"end_date\":\"2025-01-01\"}'"
            ],
            "application/vnd.google.colaboratory.intrinsic+json": {
              "type": "string"
            }
          },
          "metadata": {},
          "execution_count": 23
        }
      ]
    },
    {
      "cell_type": "markdown",
      "source": [
        "## **JSON Schemas**\n",
        "\n",
        "In the above the instances of the data models are being json dumped(serialized).\n",
        "\n",
        "But what if original data model needs to be serialized itself into a structure that indicates their attributes, types and any defaults. Such structures are called as `schemas`.\n",
        "\n",
        "A **`schema`** is a sort of blueprint for a data structure. It describes the attributes of the data structure, their types and other relavent information. It will not provide specific values instead it provides the structure. When the values are passed i.e. input then it is called instantiation not model schemas.\n",
        "\n",
        "Schemas can be used to generate documentation for various data structures or even further they can be used to generate UI that will allow users to interact with the data.\n",
        "\n",
        "when working with JSON the dominant standard for working with schemas is JSON schema."
      ],
      "metadata": {
        "id": "QKreX2lKj3fz"
      }
    },
    {
      "cell_type": "code",
      "source": [
        "from datetime import date\n",
        "from pydantic import BaseModel, ValidationError, model_validator\n",
        "from typing import Optional\n",
        "\n",
        "class ScheduledCourse(BaseModel):\n",
        "    department: str = \"?\"\n",
        "    course_num: Optional[int] = None\n",
        "    start_date: date\n",
        "    end_date: date\n",
        "\n",
        "    @model_validator(mode=\"after\")\n",
        "    # this becomes a instance method rather than cls method as the model gets instantiated\n",
        "    def validate_dates(self): # this is self as the model gets instantiated 1st\n",
        "        if self.start_date > self.end_date:\n",
        "            raise ValueError(\"check the dates once and have some common sense :(\")\n",
        "        return self"
      ],
      "metadata": {
        "id": "T_rENXNtjPj2"
      },
      "execution_count": null,
      "outputs": []
    },
    {
      "cell_type": "code",
      "source": [
        "ScheduledCourse.model_json_schema() # to generate json schema from the model itself\n",
        "# the output is generally a dictionary --> nested dictionary"
      ],
      "metadata": {
        "colab": {
          "base_uri": "https://localhost:8080/"
        },
        "id": "qax1PC-Dia6v",
        "outputId": "5a804f09-518f-4414-f9cf-ba574097ab6b"
      },
      "execution_count": null,
      "outputs": [
        {
          "output_type": "execute_result",
          "data": {
            "text/plain": [
              "{'properties': {'department': {'default': '?',\n",
              "   'title': 'Department',\n",
              "   'type': 'string'},\n",
              "  'course_num': {'anyOf': [{'type': 'integer'}, {'type': 'null'}],\n",
              "   'default': None,\n",
              "   'title': 'Course Num'},\n",
              "  'start_date': {'format': 'date', 'title': 'Start Date', 'type': 'string'},\n",
              "  'end_date': {'format': 'date', 'title': 'End Date', 'type': 'string'}},\n",
              " 'required': ['start_date', 'end_date'],\n",
              " 'title': 'ScheduledCourse',\n",
              " 'type': 'object'}"
            ]
          },
          "metadata": {},
          "execution_count": 2
        }
      ]
    },
    {
      "cell_type": "code",
      "source": [
        "# to view it more user readable\n",
        "import json\n",
        "\n",
        "print(json.dumps(ScheduledCourse.model_json_schema(), indent=4))"
      ],
      "metadata": {
        "colab": {
          "base_uri": "https://localhost:8080/"
        },
        "id": "gFfEND_mikte",
        "outputId": "e0bd57cb-030b-45b3-ff90-8bf8e3f3ec1e"
      },
      "execution_count": null,
      "outputs": [
        {
          "output_type": "stream",
          "name": "stdout",
          "text": [
            "{\n",
            "    \"properties\": {\n",
            "        \"department\": {\n",
            "            \"default\": \"?\",\n",
            "            \"title\": \"Department\",\n",
            "            \"type\": \"string\"\n",
            "        },\n",
            "        \"course_num\": {\n",
            "            \"anyOf\": [\n",
            "                {\n",
            "                    \"type\": \"integer\"\n",
            "                },\n",
            "                {\n",
            "                    \"type\": \"null\"\n",
            "                }\n",
            "            ],\n",
            "            \"default\": null,\n",
            "            \"title\": \"Course Num\"\n",
            "        },\n",
            "        \"start_date\": {\n",
            "            \"format\": \"date\",\n",
            "            \"title\": \"Start Date\",\n",
            "            \"type\": \"string\"\n",
            "        },\n",
            "        \"end_date\": {\n",
            "            \"format\": \"date\",\n",
            "            \"title\": \"End Date\",\n",
            "            \"type\": \"string\"\n",
            "        }\n",
            "    },\n",
            "    \"required\": [\n",
            "        \"start_date\",\n",
            "        \"end_date\"\n",
            "    ],\n",
            "    \"title\": \"ScheduledCourse\",\n",
            "    \"type\": \"object\"\n",
            "}\n"
          ]
        }
      ]
    },
    {
      "cell_type": "markdown",
      "source": [
        "When you see schema there are other attributes that define what the original attribute is, like \"department\" attribute has \"title\", \"type\" additionally.\n",
        "\n",
        "Json schema is independent on python and pydantic, as you see the datetime is represented as type \"string\", as it cannot have type as \"date\" due to its limitations."
      ],
      "metadata": {
        "id": "_GSVICe6jV-F"
      }
    },
    {
      "cell_type": "markdown",
      "source": [
        "## **Deserialization**\n",
        "\n",
        "Data will be received in bunch of json strings, and then convert that data into model instances that the rest of the application expects to work with, for this the data needs to be deserialized.\n",
        "\n",
        "Deserialization is the process of converting a serialized object into a format that can easily used by the application like a python object or a model instance."
      ],
      "metadata": {
        "id": "W8V305P1k2_P"
      }
    },
    {
      "cell_type": "code",
      "source": [
        "!pip install email-validator==2.1.0"
      ],
      "metadata": {
        "id": "UhS8qRiImTvv"
      },
      "execution_count": null,
      "outputs": []
    },
    {
      "cell_type": "code",
      "source": [
        "from pydantic import BaseModel, EmailStr\n",
        "from typing import Optional\n",
        "\n",
        "class User(BaseModel):\n",
        "    name: str\n",
        "    age: int\n",
        "    email: Optional[EmailStr] = None"
      ],
      "metadata": {
        "id": "Ift3k9f7jB6r"
      },
      "execution_count": null,
      "outputs": []
    },
    {
      "cell_type": "code",
      "source": [
        "user_data = '{\"name\": \"Hawk eye\", \"age\": 25, \"email\": \"hawkeye@hotmail.com\"}'"
      ],
      "metadata": {
        "id": "WsxRRIajluLi"
      },
      "execution_count": null,
      "outputs": []
    },
    {
      "cell_type": "markdown",
      "source": [
        "The above \"user_data\" is received from a client, and this needs to be validated as below"
      ],
      "metadata": {
        "id": "NDRR4BCBmvfR"
      }
    },
    {
      "cell_type": "code",
      "source": [
        "User.model_validate_json(user_data) # if this validation succedeed then the json is deserialized and gives the instance of the model."
      ],
      "metadata": {
        "colab": {
          "base_uri": "https://localhost:8080/"
        },
        "id": "OkPeoZQSmmio",
        "outputId": "83a3b3a5-db02-46d9-c4db-50fbe75ef407"
      },
      "execution_count": null,
      "outputs": [
        {
          "output_type": "execute_result",
          "data": {
            "text/plain": [
              "User(name='Hawk eye', age=25, email='hawkeye@hotmail.com')"
            ]
          },
          "metadata": {},
          "execution_count": 10
        }
      ]
    },
    {
      "cell_type": "code",
      "source": [
        "# now there is a bunch of users data and that needs to be validated\n",
        "user_data = ['{\"name\": \"Hawk eye\", \"age\": 25, \"email\": \"hawkeye@hotmail.com\"}',\n",
        "             '{\"name\": \"Batman\", \"age\": 45, \"email\": \"batman@gmail.com\"}',\n",
        "             '{\"name\": \"Wonder Woman\", \"age\": 55, \"email\": \"women\"}']\n",
        "\n",
        "for users in user_data:\n",
        "    try:\n",
        "        User.model_validate_json(users)\n",
        "        print(\"✅Valid User\")\n",
        "        print(users, end=\"\\n\\n\")\n",
        "    except ValidationError as e:\n",
        "        print(\"❌Invalid User\")\n",
        "        print(e.errors()[0][\"msg\"], end=\"\\n\\n\")\n",
        "        print(e)"
      ],
      "metadata": {
        "colab": {
          "base_uri": "https://localhost:8080/"
        },
        "id": "YNplk_f4mq6G",
        "outputId": "6ce54221-81d5-40ce-8e04-307c90167a1d"
      },
      "execution_count": null,
      "outputs": [
        {
          "output_type": "stream",
          "name": "stdout",
          "text": [
            "✅Valid User\n",
            "{\"name\": \"Hawk eye\", \"age\": 25, \"email\": \"hawkeye@hotmail.com\"}\n",
            "\n",
            "✅Valid User\n",
            "{\"name\": \"Batman\", \"age\": 45, \"email\": \"batman@gmail.com\"}\n",
            "\n",
            "❌Invalid User\n",
            "value is not a valid email address: The email address is not valid. It must have exactly one @-sign.\n",
            "\n",
            "1 validation error for User\n",
            "email\n",
            "  value is not a valid email address: The email address is not valid. It must have exactly one @-sign. [type=value_error, input_value='women', input_type=str]\n"
          ]
        }
      ]
    },
    {
      "cell_type": "code",
      "source": [],
      "metadata": {
        "id": "GLFaUjBzoTJ5"
      },
      "execution_count": null,
      "outputs": []
    }
  ]
}