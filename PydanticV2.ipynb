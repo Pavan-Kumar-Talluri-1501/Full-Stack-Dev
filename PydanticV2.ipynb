{
  "nbformat": 4,
  "nbformat_minor": 0,
  "metadata": {
    "colab": {
      "provenance": [],
      "toc_visible": true,
      "collapsed_sections": [
        "B62CrIzHlY3A"
      ],
      "authorship_tag": "ABX9TyNjSgPwWmbaUPmKEcId4iTL",
      "include_colab_link": true
    },
    "kernelspec": {
      "name": "python3",
      "display_name": "Python 3"
    },
    "language_info": {
      "name": "python"
    }
  },
  "cells": [
    {
      "cell_type": "markdown",
      "metadata": {
        "id": "view-in-github",
        "colab_type": "text"
      },
      "source": [
        "<a href=\"https://colab.research.google.com/github/Pavan-Kumar-Talluri-1501/Full-Stack-Dev/blob/FastAPI_prerequsites/PydanticV2.ipynb\" target=\"_parent\"><img src=\"https://colab.research.google.com/assets/colab-badge.svg\" alt=\"Open In Colab\"/></a>"
      ]
    },
    {
      "cell_type": "markdown",
      "source": [
        "# **Pydantic V2**\n",
        "\n",
        "A Powerful library in python for `data validation` and `modelling`.\n",
        "\n",
        "Pydantic is a declarative way to define data models, as well as a powerful validation engine to ensure that the data adheres to the models i.e. the specific types and constraints that are specified."
      ],
      "metadata": {
        "id": "B62CrIzHlY3A"
      }
    },
    {
      "cell_type": "markdown",
      "source": [
        "## **Ability of Pydantic**\n",
        "\n",
        "- Specifiy the expected format and data constraints using python type hints and declarative syntax.\n",
        "\n",
        "- Ensuring that the incoming information/data adheres to our specifications mentioned above, which inturn enables us to cathc errors and inconsistencies before they cause problems in application.\n",
        "- Automatically generating comprehensive documentation for data models.\n",
        "- Ability to simplify serialization and deserialization aspects. One can easily convert data models to and from various soure and target formats."
      ],
      "metadata": {
        "id": "CkUIngg2liYr"
      }
    },
    {
      "cell_type": "markdown",
      "source": [
        "## **Workflow of Pydantic**\n",
        "\n",
        "1. `Define a data model`, i.e. a python class that inherits from BaseModel (pydantic basemodel class), this class specifies the attributes of the data including types, constraints and validation rules. This is completely a declarative specificaitons how data should look like.\n",
        "2. `Create instances` of the above model by passing data to model constructor that we received from outside world. Here the data us validated as per the above rules and concerns are raised if the data format is inconsistent.\n",
        "3. Once instantiated, `manipulate the attributes` like any other python object.\n",
        "4. Optionally, deserialize the data and export it to target format."
      ],
      "metadata": {
        "id": "VVGiA-aGST-t"
      }
    },
    {
      "cell_type": "markdown",
      "source": [
        "# **Pydantic Model**"
      ],
      "metadata": {
        "id": "NqdZVYqNlMp4"
      }
    },
    {
      "cell_type": "code",
      "source": [
        "!pip install pydantic==2.5.3"
      ],
      "metadata": {
        "collapsed": true,
        "id": "GPt_SSX3mOfu"
      },
      "execution_count": null,
      "outputs": []
    },
    {
      "cell_type": "code",
      "execution_count": null,
      "metadata": {
        "id": "nsqugp_ESPew"
      },
      "outputs": [],
      "source": [
        "import pydantic\n",
        "\n",
        "print(pydantic.VERSION)"
      ]
    },
    {
      "cell_type": "markdown",
      "source": [
        "`BaseModel` is the base class that all pydantic models inherit from, it provides core functionality that we need to define and use our models."
      ],
      "metadata": {
        "id": "_OceDjaqpH-M"
      }
    },
    {
      "cell_type": "code",
      "source": [
        "from pydantic import BaseModel\n",
        "\n",
        "# Data Model\n",
        "class Avengers(BaseModel): # \"Avengers\" will have the functionality of BaseModel class\n",
        "    \"\"\"\n",
        "    Attributes to be captured for Avengers data model\n",
        "    <attributes>: <type>\n",
        "    \"\"\"\n",
        "    name: str\n",
        "    age: int\n",
        "    speciality: str\n",
        "    email: str\n",
        "\n",
        "    # now pydantic is aware that, input data should be of the above types\n",
        "\n",
        "# Create instances\n",
        "iron_man = Avengers(name=\"Tony Stark\", age=52, speciality=\"Iron\", email=\"irontony@hotmail.com\")"
      ],
      "metadata": {
        "id": "yNdEt99Knlxt"
      },
      "execution_count": null,
      "outputs": []
    },
    {
      "cell_type": "code",
      "source": [
        "print(iron_man.name)\n",
        "print(iron_man.age)"
      ],
      "metadata": {
        "id": "D8zFSEyro4wh"
      },
      "execution_count": null,
      "outputs": []
    },
    {
      "cell_type": "code",
      "source": [
        "cap_america = Avengers(name=\"Steve\", age=\"72huhhu\", speciality=\"super human\", email=\"shieldcaps@gmail.com\")\n",
        "print(cap_america.age)"
      ],
      "metadata": {
        "id": "O_asfNK9tIpe"
      },
      "execution_count": null,
      "outputs": []
    },
    {
      "cell_type": "markdown",
      "source": [
        "Here the validation error is raised becuase for \"age\" instead of integer, a string is passed.\n",
        "\n",
        "This validation error stops the execution flow, instead create a model by using try, catch blocks."
      ],
      "metadata": {
        "id": "G1yjFmW2ujdB"
      }
    },
    {
      "cell_type": "code",
      "source": [
        "try:\n",
        "    cap_america = Avengers(name=\"Steve\", age=\"72huhhu\", speciality=\"super human\", email=\"shieldcaps@gmail.com\")\n",
        "except pydantic.ValidationError as e:\n",
        "    print(e)"
      ],
      "metadata": {
        "id": "jhWug4LeuMWn"
      },
      "execution_count": null,
      "outputs": []
    },
    {
      "cell_type": "markdown",
      "source": [
        "## **Coercion and strict types**\n",
        "\n",
        "```\n",
        "try:\n",
        "    cap_america = Avengers(name=\"Steve\", age=\"72\", speciality=\"super human\", email=\"shieldcaps@gmail.com\")\n",
        "except pydantic.ValidationError as e:\n",
        "    print(e)\n",
        "```\n",
        "\n",
        "So, here \"age\" attribute is still a string, but pydantic will not throw any exception which means its valid.\n",
        "\n",
        "**This is because, pydantic not only checks the data we pass in, but also tries to convert the data to the specified target type and if this operation fails then it raises validation exception**."
      ],
      "metadata": {
        "id": "-utdxgMVv5F5"
      }
    },
    {
      "cell_type": "code",
      "source": [
        "# In the above \"age\" attribute this happens, age is int --> str is copnverted to int\n",
        "int(\"25\") # this is succedeeds so exception is not raised"
      ],
      "metadata": {
        "id": "ZfuRSNBgvdNo"
      },
      "execution_count": null,
      "outputs": []
    },
    {
      "cell_type": "code",
      "source": [
        "int(\"72adfa\") # this raises exception as it is invalid literal for integer"
      ],
      "metadata": {
        "id": "IRpk-s_wG1Wx"
      },
      "execution_count": null,
      "outputs": []
    },
    {
      "cell_type": "markdown",
      "source": [
        "The above is called **`type coercion`**.\n",
        "\n",
        "Here we can enforce a strict type checking, this can be done by custom validation or by defininf configuration to the model."
      ],
      "metadata": {
        "id": "i8Cl-MzGHLM5"
      }
    },
    {
      "cell_type": "code",
      "source": [
        "from pydantic import BaseModel\n",
        "\n",
        "class User(BaseModel): # this outer class defines the model\n",
        "    name: str\n",
        "    age: int\n",
        "    email: str\n",
        "\n",
        "    class Config: # inner class defines some configuration that applies to that model\n",
        "        strict = True"
      ],
      "metadata": {
        "id": "UInwdL8dHBwV"
      },
      "execution_count": null,
      "outputs": []
    },
    {
      "cell_type": "markdown",
      "source": [
        "The above `Config` is applied to all the fields in the data model."
      ],
      "metadata": {
        "id": "0llHmUa1NwIs"
      }
    },
    {
      "cell_type": "code",
      "source": [
        "try:\n",
        "    user = User(name='Pavan', age='25', email='spiderman@gmail.com')\n",
        "except pydantic.ValidationError as e:\n",
        "    print(e)"
      ],
      "metadata": {
        "id": "ncMsMbFJMcJX"
      },
      "execution_count": null,
      "outputs": []
    },
    {
      "cell_type": "markdown",
      "source": [
        "Instead of executing \"strict\" to every attribute, only apply to age which type is interge. This can be done by `pydantic strict types` i.e. by using `StrictInt`"
      ],
      "metadata": {
        "id": "flG_sLcMN_2a"
      }
    },
    {
      "cell_type": "code",
      "source": [
        "from pydantic import BaseModel, StrictInt\n",
        "\n",
        "class User(BaseModel): # using StrictInt\n",
        "    name: str\n",
        "    age: StrictInt\n",
        "    email: str"
      ],
      "metadata": {
        "id": "Tp8bJds5Np-a"
      },
      "execution_count": null,
      "outputs": []
    },
    {
      "cell_type": "code",
      "source": [
        "try:\n",
        "    user = User(name='Pavan', age='25', email='spiderman@gmail.com')\n",
        "except pydantic.ValidationError as e:\n",
        "    print(e)"
      ],
      "metadata": {
        "id": "W2YvYe13OfBb"
      },
      "execution_count": null,
      "outputs": []
    },
    {
      "cell_type": "markdown",
      "source": [
        "## **Setting up additional conditions for Data model**\n",
        "\n",
        "* age should be between 18 to 100 years old\n",
        "* name should be 3 to 50 characters long\n",
        "* email should be a valid email address\n",
        "\n",
        "\n",
        "Pydantic offers a function called **`field`**, which allows to specify additional constraints and metadata for each of the attributes."
      ],
      "metadata": {
        "id": "eayBecZDQnLz"
      }
    },
    {
      "cell_type": "code",
      "source": [
        "from pydantic import BaseModel, StrictInt, Field\n",
        "\n",
        "class User(BaseModel):\n",
        "    name: str = Field(min_length=3, max_length=50) # string length should be 3 to 50\n",
        "    age: StrictInt = Field(ge=18, le=100) # ge --> greater than or equal to, le --> less than or equal to\n",
        "    email: str"
      ],
      "metadata": {
        "id": "vyYmQKZ8OgJ7"
      },
      "execution_count": null,
      "outputs": []
    },
    {
      "cell_type": "code",
      "source": [
        "try:\n",
        "    user = User(name='Pa', age=2, email='spiderman@gmail.com') # raises exception as age is less than '18'\n",
        "except pydantic.ValidationError as e:\n",
        "    print(e)"
      ],
      "metadata": {
        "id": "je83IKPlU-82"
      },
      "execution_count": null,
      "outputs": []
    },
    {
      "cell_type": "markdown",
      "source": [
        "Now, for email validation there is function called **`EmailStr`** which validates whether it is email or not."
      ],
      "metadata": {
        "id": "htT1Q6moVz4Y"
      }
    },
    {
      "cell_type": "markdown",
      "source": [
        "### **Note**\n",
        "`EmailStr` function depends on external packages called `email-validator` which needs to be installed."
      ],
      "metadata": {
        "id": "q_aCO8_RXSaZ"
      }
    },
    {
      "cell_type": "code",
      "source": [
        "!pip install email-validator==2.1.0"
      ],
      "metadata": {
        "id": "uqePmZDhVCrL"
      },
      "execution_count": null,
      "outputs": []
    },
    {
      "cell_type": "code",
      "source": [
        "from pydantic import BaseModel, StrictInt, Field, EmailStr\n",
        "\n",
        "class User(BaseModel):\n",
        "    name: str = Field(min_length=3, max_length=50) # string length should be 3 to 50\n",
        "    age: StrictInt = Field(ge=18, le=100) # ge --> greater than or equal to, le --> less than or equal to\n",
        "    email: EmailStr"
      ],
      "metadata": {
        "id": "UkniKOWrWi-N"
      },
      "execution_count": null,
      "outputs": []
    },
    {
      "cell_type": "code",
      "source": [
        "try:\n",
        "    user = User(name='Pa', age=2, email='spiderman@@gmail.com') # raises exception as age is less than '18'\n",
        "except pydantic.ValidationError as e:\n",
        "    print(e)"
      ],
      "metadata": {
        "id": "YYMP9dvvWo3j"
      },
      "execution_count": null,
      "outputs": []
    },
    {
      "cell_type": "markdown",
      "source": [
        "# **Type Hinting Foundations**"
      ],
      "metadata": {
        "id": "EL06K4LOXDzG"
      }
    },
    {
      "cell_type": "markdown",
      "source": [
        "## **Date and Time Types**"
      ],
      "metadata": {
        "id": "ee8gh4tZXK6C"
      }
    },
    {
      "cell_type": "code",
      "source": [
        "from datetime import date, time\n",
        "from pydantic import BaseModel\n",
        "\n",
        "# 2025-07-01 --> simple date\n",
        "\n",
        "class Event_manager(BaseModel):\n",
        "    event_date: date\n",
        "    event_time: time"
      ],
      "metadata": {
        "id": "qPUTmyreWrTN"
      },
      "execution_count": null,
      "outputs": []
    },
    {
      "cell_type": "code",
      "source": [
        "try:\n",
        "    event = Event_manager(event_date=\"2024-03-03\", event_time=\"18:00:00\") # \"YYYY-MM-DD\"\n",
        "except pydantic.ValidationError as e:\n",
        "    print(e)"
      ],
      "metadata": {
        "id": "P3rKaxRGZ50E"
      },
      "execution_count": null,
      "outputs": []
    },
    {
      "cell_type": "code",
      "source": [
        "# Combination of both date and time\n",
        "from datetime import datetime\n",
        "from pydantic import BaseModel\n",
        "\n",
        "class Appointment(BaseModel):\n",
        "    start_time: datetime\n",
        "\n",
        "try:\n",
        "    # appoint = Appointment(start_time=datetime.now())\n",
        "    appoint = Appointment(start_time=\"2024-03-03T10:00:00\")\n",
        "except pydantic.ValidationError as e:\n",
        "    print(e)\n",
        "\n",
        "appoint"
      ],
      "metadata": {
        "colab": {
          "base_uri": "https://localhost:8080/"
        },
        "id": "SPe4nndIagIu",
        "outputId": "aac19c4a-de11-4e3f-b6f1-470cc996750d"
      },
      "execution_count": null,
      "outputs": [
        {
          "output_type": "execute_result",
          "data": {
            "text/plain": [
              "Appointment(start_time=datetime.datetime(2024, 3, 3, 10, 0))"
            ]
          },
          "metadata": {},
          "execution_count": 61
        }
      ]
    },
    {
      "cell_type": "markdown",
      "source": [
        "## **Lists and Nested Lists**\n",
        "\n",
        "`Lists` are ordered collections of items and are mutalble.\n",
        "\n",
        "Define a simple pyantic model that consists list of items."
      ],
      "metadata": {
        "id": "YVm8dwqrdjg2"
      }
    },
    {
      "cell_type": "code",
      "source": [
        "[2, 3, 4, 5, 6]\n",
        "\n",
        "# by list-comprehenssion\n",
        "[x for x in range(1, 11)]"
      ],
      "metadata": {
        "colab": {
          "base_uri": "https://localhost:8080/"
        },
        "id": "IZLfHxGicAR2",
        "outputId": "7f877dc6-3ad9-4e3a-cafb-8c4f6b4abdaf"
      },
      "execution_count": null,
      "outputs": [
        {
          "output_type": "execute_result",
          "data": {
            "text/plain": [
              "[1, 2, 3, 4, 5, 6, 7, 8, 9, 10]"
            ]
          },
          "metadata": {},
          "execution_count": 63
        }
      ]
    },
    {
      "cell_type": "code",
      "source": [
        "from typing import List\n",
        "from pydantic import BaseModel, Field\n",
        "\n",
        "class ShoppingCart(BaseModel):\n",
        "    # items: List[str] # items are list of strings, this can be \"list[str]\"\n",
        "    # make sure there are only 5 items at max\n",
        "    items: List[str] = Field(max_items=5, min_items=2)"
      ],
      "metadata": {
        "id": "4v-sP7edd1rm"
      },
      "execution_count": null,
      "outputs": []
    },
    {
      "cell_type": "code",
      "source": [
        "try:\n",
        "    cart = ShoppingCart(items=[\"Grapes\", \"Pears\", \"cherries\"])\n",
        "    print(cart)\n",
        "except pydantic.ValidationError as e:\n",
        "    print(e)"
      ],
      "metadata": {
        "colab": {
          "base_uri": "https://localhost:8080/"
        },
        "id": "Foa9yiZRecfJ",
        "outputId": "93cfebf3-86cb-4d77-d708-20c2e3510d37"
      },
      "execution_count": null,
      "outputs": [
        {
          "output_type": "stream",
          "name": "stdout",
          "text": [
            "items=['Grapes', 'Pears', 'cherries']\n"
          ]
        }
      ]
    },
    {
      "cell_type": "code",
      "source": [
        "# create a 2D list\n",
        "from pydantic import BaseModel\n",
        "from typing import List\n",
        "\n",
        "class CreateMatrix(BaseModel):\n",
        "    grid: List[List[int]] # this accepts nested lists --> list of list"
      ],
      "metadata": {
        "id": "kHqtvjIOei7S"
      },
      "execution_count": null,
      "outputs": []
    },
    {
      "cell_type": "code",
      "source": [
        "try:\n",
        "    matrix = CreateMatrix(grid=[[1, 2, 3],[4, 5, 6]])\n",
        "    print(matrix)\n",
        "except pydantic.ValidationError as e:\n",
        "    print(e)"
      ],
      "metadata": {
        "colab": {
          "base_uri": "https://localhost:8080/"
        },
        "id": "RNw0AD4NgV6I",
        "outputId": "08c29e49-cb8d-4f9c-96bd-5c9aeabff58c"
      },
      "execution_count": null,
      "outputs": [
        {
          "output_type": "stream",
          "name": "stdout",
          "text": [
            "grid=[[1, 2, 3], [4, 5, 6]]\n"
          ]
        }
      ]
    },
    {
      "cell_type": "markdown",
      "source": [
        "### **Note**\n",
        "This nesting can be done with any datastructure within another and pydantic will validte each item according to its type. This also extends to pydantic data models."
      ],
      "metadata": {
        "id": "zqrBupB5hVlj"
      }
    },
    {
      "cell_type": "code",
      "source": [
        "from pydantic import BaseModel\n",
        "from typing import List\n",
        "\n",
        "class Ingredient(BaseModel):\n",
        "    name: str\n",
        "    quantity: float\n",
        "\n",
        "class Recipe(BaseModel):\n",
        "    ingredients: List[Ingredient] # this list takes the above model, it validates each type\n",
        "\n",
        "try:\n",
        "    recipe = Recipe(ingredients=[Ingredient(name=\"salt\", quantity=0.5),\n",
        "                    Ingredient(name=\"Pepper\", quantity=0.7),\n",
        "                    Ingredient(name=\"chicken\", quantity=0.5)])\n",
        "    print(recipe)\n",
        "except pydantic.ValidationError as e:\n",
        "    print(e)"
      ],
      "metadata": {
        "colab": {
          "base_uri": "https://localhost:8080/"
        },
        "id": "SLUl_tdrgfyQ",
        "outputId": "30bb9d0f-28ec-4792-8bf7-40fc03bfefb6"
      },
      "execution_count": null,
      "outputs": [
        {
          "output_type": "stream",
          "name": "stdout",
          "text": [
            "ingredients=[Ingredient(name='salt', quantity=0.5), Ingredient(name='Pepper', quantity=0.7), Ingredient(name='chicken', quantity=0.5)]\n"
          ]
        }
      ]
    },
    {
      "cell_type": "markdown",
      "source": [
        "## **Dictionary and Typed Key-Values**\n",
        "\n",
        "There are two ways to use list or dictionary types while dong type annotations, i.e. `list`(built-in) or `List`(from typing) and for dictinoary `dict` or `Dict`."
      ],
      "metadata": {
        "id": "GSz1KVyJjur0"
      }
    },
    {
      "cell_type": "code",
      "source": [
        "from pydantic import BaseModel, Field\n",
        "from typing import Dict\n",
        "\n",
        "class UserProfiles(BaseModel):\n",
        "    profiles: Dict[str, int] # Dict[<key type>, <value type>]\n",
        "    # profiles: Dict[str, int] = Field(min_items=2) the length of the dictionary can be optimized"
      ],
      "metadata": {
        "id": "52aLBiaYiuI3"
      },
      "execution_count": null,
      "outputs": []
    },
    {
      "cell_type": "code",
      "source": [
        "try:\n",
        "    profile = UserProfiles(profiles={\"tony\": 25, \"stark\": 35})\n",
        "    print(profile)\n",
        "except pydantic.ValidationError as e:\n",
        "    print(e)"
      ],
      "metadata": {
        "colab": {
          "base_uri": "https://localhost:8080/"
        },
        "id": "QqJSwKOsnZ3y",
        "outputId": "4f7f17b1-ab55-4753-9ecb-ee63f9e1cebb"
      },
      "execution_count": null,
      "outputs": [
        {
          "output_type": "stream",
          "name": "stdout",
          "text": [
            "profiles={'tony': 25, 'stark': 35}\n"
          ]
        }
      ]
    },
    {
      "cell_type": "code",
      "source": [
        "# Extending the data model to accept another datastructure\n",
        "\n",
        "from pydantic import BaseModel\n",
        "from typing import Dict\n",
        "\n",
        "class Product(BaseModel):\n",
        "    name: str\n",
        "    price: float\n",
        "\n",
        "class ProductCatalogue(BaseModel):\n",
        "    products: Dict[str, Product]"
      ],
      "metadata": {
        "id": "Z5zgNP96nxAi"
      },
      "execution_count": null,
      "outputs": []
    },
    {
      "cell_type": "code",
      "source": [
        "from pydantic import ValidationError # Import ValidationError\n",
        "\n",
        "try:\n",
        "    catalogue = ProductCatalogue(products={\"p1\": Product(name=\"tea\", price=\"52\"),\n",
        "                                          \"p2\": Product(name=\"coffee\", price=\"22\")})\n",
        "    print(catalogue)\n",
        "except ValidationError as e: # Use ValidationError directly\n",
        "    print(e)"
      ],
      "metadata": {
        "colab": {
          "base_uri": "https://localhost:8080/"
        },
        "id": "YbO6sbM4p1sZ",
        "outputId": "293d1f84-fe40-4346-a9e5-873379ee0856"
      },
      "execution_count": null,
      "outputs": [
        {
          "output_type": "stream",
          "name": "stdout",
          "text": [
            "products={'p1': Product(name='tea', price=52.0), 'p2': Product(name='coffee', price=22.0)}\n"
          ]
        }
      ]
    },
    {
      "cell_type": "code",
      "source": [],
      "metadata": {
        "id": "63OdQz8sqUsd"
      },
      "execution_count": null,
      "outputs": []
    }
  ]
}